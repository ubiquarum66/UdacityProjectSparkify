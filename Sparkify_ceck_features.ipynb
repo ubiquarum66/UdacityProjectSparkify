{
 "cells": [
  {
   "cell_type": "markdown",
   "metadata": {},
   "source": [
    "# Sparkify Project Workspace - Part I: look for Features\n",
    "This workspace contains a tiny subset (128MB) of the full dataset available (12GB). Feel free to use this workspace to build your project, or to explore a smaller subset with Spark before deploying your cluster on the cloud. Instructions for setting up your Spark cluster is included in the last lesson of the Extracurricular Spark Course content.\n",
    "\n",
    "You can follow the steps below to guide your data analysis and model building portion of this project."
   ]
  },
  {
   "cell_type": "markdown",
   "metadata": {},
   "source": [
    "### assigned Link \n",
    "....to [Blog](https://ubiquarum66.github.io/Udacity_Sparkify_Project_Blog/) I will try to interprete the findings)"
   ]
  },
  {
   "cell_type": "code",
   "execution_count": 46,
   "metadata": {},
   "outputs": [],
   "source": [
    "# import libraries\n",
    "from pyspark.sql import SparkSession\n",
    "#from pyspark.sql.functions import udf\n",
    "from pyspark.sql.types import StringType\n",
    "from pyspark.sql.types import IntegerType\n",
    "from pyspark.sql.types import DateType\n",
    "from pyspark.sql.functions import desc\n",
    "from pyspark.sql.functions import asc\n",
    "from pyspark.sql.functions import sum as Fsum\n",
    "from pyspark.sql.functions import avg, col, concat, desc, explode, lit, min, max, split\n",
    "from pyspark.sql.functions import udf,count,when,isnan,regexp_replace,countDistinct,month,from_unixtime,to_timestamp,lead,datediff,mean\n"
   ]
  },
  {
   "cell_type": "code",
   "execution_count": 10,
   "metadata": {},
   "outputs": [],
   "source": [
    "import datetime\n",
    "import pyspark.sql.functions as F\n",
    "import numpy as np\n",
    "import pandas as pd\n",
    "%matplotlib inline\n",
    "import matplotlib.pyplot as plt"
   ]
  },
  {
   "cell_type": "code",
   "execution_count": 11,
   "metadata": {},
   "outputs": [],
   "source": [
    "# create a Spark session\n",
    "spark = SparkSession \\\n",
    "    .builder \\\n",
    "    .appName(\"Wrangling Data\") \\\n",
    "    .getOrCreate()"
   ]
  },
  {
   "cell_type": "markdown",
   "metadata": {},
   "source": [
    "# Load and Clean Dataset\n",
    "In this workspace, the mini-dataset file is `mini_sparkify_event_data.json`. Load and clean the dataset, checking for invalid or missing data - for example, records without userids or sessionids. "
   ]
  },
  {
   "cell_type": "code",
   "execution_count": 12,
   "metadata": {},
   "outputs": [],
   "source": [
    "#path = \"data/sparkify_log_small.json\"\n",
    "path = \"./mini_sparkify_event_data.json\"\n",
    "user_log = spark.read.json(path)"
   ]
  },
  {
   "cell_type": "code",
   "execution_count": 15,
   "metadata": {},
   "outputs": [
    {
     "name": "stdout",
     "output_type": "stream",
     "text": [
      "286500\n"
     ]
    },
    {
     "data": {
      "text/html": [
       "<div>\n",
       "<style scoped>\n",
       "    .dataframe tbody tr th:only-of-type {\n",
       "        vertical-align: middle;\n",
       "    }\n",
       "\n",
       "    .dataframe tbody tr th {\n",
       "        vertical-align: top;\n",
       "    }\n",
       "\n",
       "    .dataframe thead th {\n",
       "        text-align: right;\n",
       "    }\n",
       "</style>\n",
       "<table border=\"1\" class=\"dataframe\">\n",
       "  <thead>\n",
       "    <tr style=\"text-align: right;\">\n",
       "      <th></th>\n",
       "      <th>artist</th>\n",
       "      <th>auth</th>\n",
       "      <th>firstName</th>\n",
       "      <th>gender</th>\n",
       "      <th>itemInSession</th>\n",
       "      <th>lastName</th>\n",
       "      <th>length</th>\n",
       "      <th>level</th>\n",
       "      <th>location</th>\n",
       "      <th>method</th>\n",
       "      <th>page</th>\n",
       "      <th>registration</th>\n",
       "      <th>sessionId</th>\n",
       "      <th>song</th>\n",
       "      <th>status</th>\n",
       "      <th>ts</th>\n",
       "      <th>userAgent</th>\n",
       "      <th>userId</th>\n",
       "    </tr>\n",
       "  </thead>\n",
       "  <tbody>\n",
       "    <tr>\n",
       "      <th>0</th>\n",
       "      <td>58392</td>\n",
       "      <td>0</td>\n",
       "      <td>8346</td>\n",
       "      <td>8346</td>\n",
       "      <td>0</td>\n",
       "      <td>8346</td>\n",
       "      <td>58392</td>\n",
       "      <td>0</td>\n",
       "      <td>8346</td>\n",
       "      <td>0</td>\n",
       "      <td>0</td>\n",
       "      <td>8346</td>\n",
       "      <td>0</td>\n",
       "      <td>58392</td>\n",
       "      <td>0</td>\n",
       "      <td>0</td>\n",
       "      <td>8346</td>\n",
       "      <td>0</td>\n",
       "    </tr>\n",
       "  </tbody>\n",
       "</table>\n",
       "</div>"
      ],
      "text/plain": [
       "   artist  auth  firstName  gender  itemInSession  lastName  length  level  \\\n",
       "0   58392     0       8346    8346              0      8346   58392      0   \n",
       "\n",
       "   location  method  page  registration  sessionId   song  status  ts  \\\n",
       "0      8346       0     0          8346          0  58392       0   0   \n",
       "\n",
       "   userAgent  userId  \n",
       "0       8346       0  "
      ]
     },
     "execution_count": 15,
     "metadata": {},
     "output_type": "execute_result"
    }
   ],
   "source": [
    "\n",
    "#get number of entries in dataset\n",
    "print(user_log.count())\n",
    "# thanks stackoverflow: how to check for null and nans....\n",
    "pddf =user_log.select([count(when(isnan(c) | col(c).isNull(), c)).alias(c) for c in user_log.columns]).toPandas()\n",
    "pddf.head()\n",
    "\n"
   ]
  },
  {
   "cell_type": "markdown",
   "metadata": {},
   "source": [
    "### A lot of null elements\n",
    "\n",
    "... that reflect the fact, that different page events might use different subsets of the columns, and thus not all have to be set in all circumstances.\n",
    "\n",
    "It is good to know, that the two essential informations for the system user interaction, the * userid and the sessionid, are without null values *."
   ]
  },
  {
   "cell_type": "markdown",
   "metadata": {},
   "source": [
    "# Exploratory Data Analysis\n",
    "When you're working with the full dataset, perform EDA by loading a small subset of the data and doing basic manipulations within Spark. In this workspace, you are already provided a small subset of data you can explore.\n",
    "\n",
    "### Define Churn\n",
    "\n",
    "Once you've done some preliminary analysis, create a column `Churn` to use as the label for your model. I suggest using the `Cancellation Confirmation` events to define your churn, which happen for both paid and free users. As a bonus task, you can also look into the `Downgrade` events.\n",
    "\n",
    "### Explore Data\n",
    "Once you've defined churn, perform some exploratory data analysis to observe the behavior for users who stayed vs users who churned. You can start by exploring aggregates on these two groups of users, observing how much of a specific action they experienced per a certain time unit or number of songs played."
   ]
  },
  {
   "cell_type": "markdown",
   "metadata": {},
   "source": [
    "### Let's call it most general information:\n"
   ]
  },
  {
   "cell_type": "code",
   "execution_count": 17,
   "metadata": {},
   "outputs": [
    {
     "name": "stdout",
     "output_type": "stream",
     "text": [
      "286500\n",
      "root\n",
      " |-- artist: string (nullable = true)\n",
      " |-- auth: string (nullable = true)\n",
      " |-- firstName: string (nullable = true)\n",
      " |-- gender: string (nullable = true)\n",
      " |-- itemInSession: long (nullable = true)\n",
      " |-- lastName: string (nullable = true)\n",
      " |-- length: double (nullable = true)\n",
      " |-- level: string (nullable = true)\n",
      " |-- location: string (nullable = true)\n",
      " |-- method: string (nullable = true)\n",
      " |-- page: string (nullable = true)\n",
      " |-- registration: long (nullable = true)\n",
      " |-- sessionId: long (nullable = true)\n",
      " |-- song: string (nullable = true)\n",
      " |-- status: long (nullable = true)\n",
      " |-- ts: long (nullable = true)\n",
      " |-- userAgent: string (nullable = true)\n",
      " |-- userId: string (nullable = true)\n",
      "\n"
     ]
    },
    {
     "data": {
      "text/html": [
       "<div>\n",
       "<style scoped>\n",
       "    .dataframe tbody tr th:only-of-type {\n",
       "        vertical-align: middle;\n",
       "    }\n",
       "\n",
       "    .dataframe tbody tr th {\n",
       "        vertical-align: top;\n",
       "    }\n",
       "\n",
       "    .dataframe thead th {\n",
       "        text-align: right;\n",
       "    }\n",
       "</style>\n",
       "<table border=\"1\" class=\"dataframe\">\n",
       "  <thead>\n",
       "    <tr style=\"text-align: right;\">\n",
       "      <th></th>\n",
       "      <th>summary</th>\n",
       "      <th>artist</th>\n",
       "      <th>auth</th>\n",
       "      <th>firstName</th>\n",
       "      <th>gender</th>\n",
       "      <th>itemInSession</th>\n",
       "      <th>lastName</th>\n",
       "      <th>length</th>\n",
       "      <th>level</th>\n",
       "      <th>location</th>\n",
       "      <th>method</th>\n",
       "      <th>page</th>\n",
       "      <th>registration</th>\n",
       "      <th>sessionId</th>\n",
       "      <th>song</th>\n",
       "      <th>status</th>\n",
       "      <th>ts</th>\n",
       "      <th>userAgent</th>\n",
       "      <th>userId</th>\n",
       "    </tr>\n",
       "  </thead>\n",
       "  <tbody>\n",
       "    <tr>\n",
       "      <th>0</th>\n",
       "      <td>count</td>\n",
       "      <td>228108</td>\n",
       "      <td>286500</td>\n",
       "      <td>278154</td>\n",
       "      <td>278154</td>\n",
       "      <td>286500</td>\n",
       "      <td>278154</td>\n",
       "      <td>228108</td>\n",
       "      <td>286500</td>\n",
       "      <td>278154</td>\n",
       "      <td>286500</td>\n",
       "      <td>286500</td>\n",
       "      <td>278154</td>\n",
       "      <td>286500</td>\n",
       "      <td>228108</td>\n",
       "      <td>286500</td>\n",
       "      <td>286500</td>\n",
       "      <td>278154</td>\n",
       "      <td>286500</td>\n",
       "    </tr>\n",
       "    <tr>\n",
       "      <th>1</th>\n",
       "      <td>mean</td>\n",
       "      <td>551.0852017937219</td>\n",
       "      <td>None</td>\n",
       "      <td>None</td>\n",
       "      <td>None</td>\n",
       "      <td>114.41421291448516</td>\n",
       "      <td>None</td>\n",
       "      <td>249.1171819778458</td>\n",
       "      <td>None</td>\n",
       "      <td>None</td>\n",
       "      <td>None</td>\n",
       "      <td>None</td>\n",
       "      <td>1.5353588340844272E12</td>\n",
       "      <td>1041.526554973822</td>\n",
       "      <td>Infinity</td>\n",
       "      <td>210.05459685863875</td>\n",
       "      <td>1.5409568898104834E12</td>\n",
       "      <td>None</td>\n",
       "      <td>59682.02278593872</td>\n",
       "    </tr>\n",
       "    <tr>\n",
       "      <th>2</th>\n",
       "      <td>stddev</td>\n",
       "      <td>1217.7693079161374</td>\n",
       "      <td>None</td>\n",
       "      <td>None</td>\n",
       "      <td>None</td>\n",
       "      <td>129.76726201140994</td>\n",
       "      <td>None</td>\n",
       "      <td>99.23517921058361</td>\n",
       "      <td>None</td>\n",
       "      <td>None</td>\n",
       "      <td>None</td>\n",
       "      <td>None</td>\n",
       "      <td>3.291321616327586E9</td>\n",
       "      <td>726.7762634630741</td>\n",
       "      <td>NaN</td>\n",
       "      <td>31.50507848842214</td>\n",
       "      <td>1.5075439608226302E9</td>\n",
       "      <td>None</td>\n",
       "      <td>109091.9499991047</td>\n",
       "    </tr>\n",
       "    <tr>\n",
       "      <th>3</th>\n",
       "      <td>min</td>\n",
       "      <td>!!!</td>\n",
       "      <td>Cancelled</td>\n",
       "      <td>Adelaida</td>\n",
       "      <td>F</td>\n",
       "      <td>0</td>\n",
       "      <td>Adams</td>\n",
       "      <td>0.78322</td>\n",
       "      <td>free</td>\n",
       "      <td>Albany, OR</td>\n",
       "      <td>GET</td>\n",
       "      <td>About</td>\n",
       "      <td>1521380675000</td>\n",
       "      <td>1</td>\n",
       "      <td>ÃÂg ÃÂtti GrÃÂ¡a ÃÂsku</td>\n",
       "      <td>200</td>\n",
       "      <td>1538352117000</td>\n",
       "      <td>\"Mozilla/5.0 (Macintosh; Intel Mac OS X 10_10)...</td>\n",
       "      <td></td>\n",
       "    </tr>\n",
       "    <tr>\n",
       "      <th>4</th>\n",
       "      <td>max</td>\n",
       "      <td>ÃÂlafur Arnalds</td>\n",
       "      <td>Logged Out</td>\n",
       "      <td>Zyonna</td>\n",
       "      <td>M</td>\n",
       "      <td>1321</td>\n",
       "      <td>Wright</td>\n",
       "      <td>3024.66567</td>\n",
       "      <td>paid</td>\n",
       "      <td>Winston-Salem, NC</td>\n",
       "      <td>PUT</td>\n",
       "      <td>Upgrade</td>\n",
       "      <td>1543247354000</td>\n",
       "      <td>2474</td>\n",
       "      <td>ÃÂau hafa sloppiÃÂ° undan ÃÂ¾unga myrkursins</td>\n",
       "      <td>404</td>\n",
       "      <td>1543799476000</td>\n",
       "      <td>Mozilla/5.0 (compatible; MSIE 9.0; Windows NT ...</td>\n",
       "      <td>99</td>\n",
       "    </tr>\n",
       "  </tbody>\n",
       "</table>\n",
       "</div>"
      ],
      "text/plain": [
       "  summary              artist        auth firstName  gender  \\\n",
       "0   count              228108      286500    278154  278154   \n",
       "1    mean   551.0852017937219        None      None    None   \n",
       "2  stddev  1217.7693079161374        None      None    None   \n",
       "3     min                 !!!   Cancelled  Adelaida       F   \n",
       "4     max   ÃÂlafur Arnalds  Logged Out    Zyonna       M   \n",
       "\n",
       "        itemInSession lastName             length   level           location  \\\n",
       "0              286500   278154             228108  286500             278154   \n",
       "1  114.41421291448516     None  249.1171819778458    None               None   \n",
       "2  129.76726201140994     None  99.23517921058361    None               None   \n",
       "3                   0    Adams            0.78322    free         Albany, OR   \n",
       "4                1321   Wright         3024.66567    paid  Winston-Salem, NC   \n",
       "\n",
       "   method     page           registration          sessionId  \\\n",
       "0  286500   286500                 278154             286500   \n",
       "1    None     None  1.5353588340844272E12  1041.526554973822   \n",
       "2    None     None    3.291321616327586E9  726.7762634630741   \n",
       "3     GET    About          1521380675000                  1   \n",
       "4     PUT  Upgrade          1543247354000               2474   \n",
       "\n",
       "                                               song              status  \\\n",
       "0                                            228108              286500   \n",
       "1                                          Infinity  210.05459685863875   \n",
       "2                                               NaN   31.50507848842214   \n",
       "3                    \n",
       "ÃÂg ÃÂtti GrÃÂ¡a ÃÂsku                 200   \n",
       "4  ÃÂau hafa sloppiÃÂ° undan ÃÂ¾unga myrkursins                 404   \n",
       "\n",
       "                      ts                                          userAgent  \\\n",
       "0                 286500                                             278154   \n",
       "1  1.5409568898104834E12                                               None   \n",
       "2   1.5075439608226302E9                                               None   \n",
       "3          1538352117000  \"Mozilla/5.0 (Macintosh; Intel Mac OS X 10_10)...   \n",
       "4          1543799476000  Mozilla/5.0 (compatible; MSIE 9.0; Windows NT ...   \n",
       "\n",
       "              userId  \n",
       "0             286500  \n",
       "1  59682.02278593872  \n",
       "2  109091.9499991047  \n",
       "3                     \n",
       "4                 99  "
      ]
     },
     "execution_count": 17,
     "metadata": {},
     "output_type": "execute_result"
    }
   ],
   "source": [
    "print(user_log.count())\n",
    "user_log.printSchema();\n",
    "\n",
    "#change to pandas as the table looks better :)\n",
    "user_log.describe().toPandas().head(10)"
   ]
  },
  {
   "cell_type": "markdown",
   "metadata": {},
   "source": [
    "### First Findings \n",
    "\n",
    "First notes: due to the length of the integers I guess time ts to be in ms."
   ]
  },
  {
   "cell_type": "markdown",
   "metadata": {},
   "source": [
    "### Detailed investigation \n",
    "\n",
    "...into the contents of the columns, either seeing their length or their set of possible values\n",
    "\n"
   ]
  },
  {
   "cell_type": "code",
   "execution_count": 33,
   "metadata": {},
   "outputs": [
    {
     "name": "stdout",
     "output_type": "stream",
     "text": [
      "17656\n",
      "['Logged Out', 'Cancelled', 'Guest', 'Logged In']\n",
      "['F', None, 'M']\n",
      "['free', 'paid']\n",
      "['Cancel', 'Submit Downgrade', 'Thumbs Down', 'Home', 'Downgrade', 'Roll Advert', 'Logout', 'Save Settings', 'Cancellation Confirmation', 'About', 'Submit Registration', 'Settings', 'Login', 'Register', 'Add to Playlist', 'Add Friend', 'NextSong', 'Thumbs Up', 'Help', 'Upgrade', 'Error', 'Submit Upgrade']\n",
      "[307, 404, 200]\n"
     ]
    }
   ],
   "source": [
    "print(len([i.artist for i in user_log.select('artist').distinct().collect()]))\n",
    "print([i.auth for i in user_log.select('auth').distinct().collect()])\n",
    "#[i.firstName for i in user_log.select('firstName').distinct().collect()]\n",
    "print([i.gender for i in user_log.select('gender').distinct().collect()])\n",
    "#[i.itemInSession for i in user_log.select('itemInSession').distinct().collect()]\n",
    "#[i.lastName for i in user_log.select('lastName').distinct().collect()]\n",
    "#[i.length for i in user_log.select('length').distinct().collect()]\n",
    "print([i.level for i in user_log.select('level').distinct().collect()])\n",
    "#[i.location for i in user_log.select('location').distinct().collect()]\n",
    "#[i.method for i in user_log.select('method').distinct().collect()]\n",
    "print([i.page for i in user_log.select('page').distinct().collect()])\n",
    "#[i.registration for i in user_log.select('registration').distinct().collect()]\n",
    "#[i.sessionId for i in user_log.select('sessionId').distinct().collect()]\n",
    "#[i.song for i in user_log.select('song').distinct().collect()]\n",
    "print([i.status for i in user_log.select('status').distinct().collect()])\n",
    "#[i.ts for i in user_log.select('ts').distinct().collect()]\n",
    "#[i.userAgent for i in user_log.select('userAgent').distinct().collect()]\n",
    "#[i.userId for i in user_log.select('userId').distinct().collect()]\n"
   ]
  },
  {
   "cell_type": "code",
   "execution_count": 27,
   "metadata": {},
   "outputs": [
    {
     "name": "stdout",
     "output_type": "stream",
     "text": [
      "+------+\n",
      "|userID|\n",
      "+------+\n",
      "|      |\n",
      "|    10|\n",
      "|   100|\n",
      "|100001|\n",
      "|100002|\n",
      "|100003|\n",
      "|100004|\n",
      "|100005|\n",
      "|100006|\n",
      "|100007|\n",
      "|100008|\n",
      "|100009|\n",
      "|100010|\n",
      "|100011|\n",
      "|100012|\n",
      "|100013|\n",
      "|100014|\n",
      "|100015|\n",
      "|100016|\n",
      "|100017|\n",
      "+------+\n",
      "only showing top 20 rows\n",
      "\n"
     ]
    }
   ],
   "source": [
    "user_log.select( 'userID').distinct().sort('userid').show()"
   ]
  },
  {
   "cell_type": "markdown",
   "metadata": {},
   "source": [
    "### not so important HTTP information...."
   ]
  },
  {
   "cell_type": "code",
   "execution_count": 32,
   "metadata": {},
   "outputs": [
    {
     "data": {
      "text/plain": [
       "['PUT', 'GET']"
      ]
     },
     "execution_count": 32,
     "metadata": {},
     "output_type": "execute_result"
    }
   ],
   "source": [
    "#df = user_log.toPandas()\n",
    "#df.to_csv('./mini_sparkify_event_data_as_csv.csv')\n",
    "#user_log.printSchema();\n",
    "#[i.auth for i in user_log.select('auth').distinct().collect()]\n",
    "#print('gender:');[i.gender for i in user_log.select('gender').distinct().collect()]\n",
    "#print('page:');[i.page for i in user_log.select('page').distinct().collect()]\n",
    "[i.method for i in user_log.select('method').distinct().collect()]\n",
    "#[i.userAgent for i in user_log.select('userAgent').distinct().collect()]\n",
    "#[i.registration for i in user_log.select('registration').distinct().collect()]\n"
   ]
  },
  {
   "cell_type": "markdown",
   "metadata": {},
   "source": [
    "### Summarize:\n",
    "\n",
    "+ one userID is questionable at least and will be imputed: the empty string\n",
    "+ the page seems to show the type of interaction, and I use 'Submit Downgrade' as a churn event signal\n",
    "+ the transition from paid to free with this event will be shown later"
   ]
  },
  {
   "cell_type": "markdown",
   "metadata": {},
   "source": [
    "### check again and clean Data"
   ]
  },
  {
   "cell_type": "code",
   "execution_count": 38,
   "metadata": {},
   "outputs": [
    {
     "name": "stdout",
     "output_type": "stream",
     "text": [
      "0\n"
     ]
    },
    {
     "data": {
      "text/plain": [
       "0"
      ]
     },
     "execution_count": 38,
     "metadata": {},
     "output_type": "execute_result"
    }
   ],
   "source": [
    "#remove user ids which are empty strings\n",
    "user_log = user_log.filter(user_log[\"userId\"] != \"\")\n",
    "print(user_log.filter(user_log[\"userID\"] == \"\").count())\n",
    "\n",
    "#checking how many sessionIds are missimng\n",
    "user_log.filter(user_log[\"sessionId\"] != \"\").count()"
   ]
  },
  {
   "cell_type": "markdown",
   "metadata": {},
   "source": [
    "# Feature Engineering\n",
    "Once you've familiarized yourself with the data, build out the features you find promising to train your model on. To work with the full dataset, you can follow the following steps.\n",
    "- Write a script to extract the necessary features from the smaller subset of data\n",
    "- Ensure that your script is scalable, using the best practices discussed in Lesson 3\n",
    "- Try your script on the full data set, debugging your script if necessary\n",
    "\n",
    "If you are working in the classroom workspace, you can just extract features based on the small subset of data contained here. Be sure to transfer over this work to the larger dataset when you work on your Spark cluster."
   ]
  },
  {
   "cell_type": "code",
   "execution_count": 37,
   "metadata": {},
   "outputs": [
    {
     "name": "stdout",
     "output_type": "stream",
     "text": [
      "0\n"
     ]
    },
    {
     "data": {
      "text/plain": [
       "0"
      ]
     },
     "execution_count": 37,
     "metadata": {},
     "output_type": "execute_result"
    }
   ],
   "source": [
    "#remove user ids which are empty strings\n",
    "user_log = user_log.filter(user_log[\"userId\"] != \"\")\n",
    "print(user_log.filter(user_log[\"userID\"] == \"\").count())\n",
    "\n",
    "#checking how many sessionIds are missimng\n",
    "user_log.filter(user_log[\"sessionId\"] != \"\").count()"
   ]
  },
  {
   "cell_type": "markdown",
   "metadata": {},
   "source": [
    "### Churn Column\n",
    "\n",
    "If as expected by the EDA so far, the leaving of the service is signalled with the 'Submit Downgrade' Event, the\n",
    "strategy of \"Data Wrangling with Data Frames# is reused: \n",
    "\n",
    "+ flag the event and\n",
    "+ accumulate on this column to get the churn status over a \n",
    "+ time sorted window of userid's"
   ]
  },
  {
   "cell_type": "code",
   "execution_count": 41,
   "metadata": {},
   "outputs": [
    {
     "data": {
      "text/plain": [
       "[Row(userId='109', firstname='Casey', ts=1538888285000, page='NextSong', level='free', churn=1),\n",
       " Row(userId='109', firstname='Casey', ts=1538888359000, page='Upgrade', level='free', churn=1),\n",
       " Row(userId='109', firstname='Casey', ts=1538888603000, page='NextSong', level='free', churn=1),\n",
       " Row(userId='109', firstname='Casey', ts=1538888668000, page='Roll Advert', level='free', churn=1),\n",
       " Row(userId='109', firstname='Casey', ts=1538888764000, page='NextSong', level='free', churn=1),\n",
       " Row(userId='109', firstname='Casey', ts=1538889198000, page='NextSong', level='free', churn=1),\n",
       " Row(userId='109', firstname='Casey', ts=1538889408000, page='NextSong', level='free', churn=1),\n",
       " Row(userId='109', firstname='Casey', ts=1538889645000, page='NextSong', level='free', churn=1),\n",
       " Row(userId='109', firstname='Casey', ts=1538889854000, page='NextSong', level='free', churn=1),\n",
       " Row(userId='109', firstname='Casey', ts=1538889906000, page='Settings', level='free', churn=1),\n",
       " Row(userId='109', firstname='Casey', ts=1538889971000, page='Settings', level='free', churn=1),\n",
       " Row(userId='109', firstname='Casey', ts=1538890006000, page='Help', level='free', churn=1),\n",
       " Row(userId='109', firstname='Casey', ts=1538890064000, page='NextSong', level='free', churn=1),\n",
       " Row(userId='109', firstname='Casey', ts=1538890242000, page='NextSong', level='free', churn=1),\n",
       " Row(userId='109', firstname='Casey', ts=1538890406000, page='NextSong', level='free', churn=1),\n",
       " Row(userId='109', firstname='Casey', ts=1538890592000, page='NextSong', level='free', churn=1),\n",
       " Row(userId='109', firstname='Casey', ts=1538890738000, page='NextSong', level='free', churn=1),\n",
       " Row(userId='109', firstname='Casey', ts=1538890958000, page='NextSong', level='free', churn=1),\n",
       " Row(userId='109', firstname='Casey', ts=1538891216000, page='NextSong', level='free', churn=1),\n",
       " Row(userId='109', firstname='Casey', ts=1538891372000, page='Roll Advert', level='free', churn=1),\n",
       " Row(userId='109', firstname='Casey', ts=1538891705000, page='NextSong', level='free', churn=1),\n",
       " Row(userId='109', firstname='Casey', ts=1538891814000, page='NextSong', level='free', churn=1),\n",
       " Row(userId='109', firstname='Casey', ts=1538891841000, page='Roll Advert', level='free', churn=1),\n",
       " Row(userId='109', firstname='Casey', ts=1538892100000, page='NextSong', level='free', churn=1),\n",
       " Row(userId='109', firstname='Casey', ts=1538892339000, page='NextSong', level='free', churn=1),\n",
       " Row(userId='109', firstname='Casey', ts=1538892340000, page='Thumbs Down', level='free', churn=1),\n",
       " Row(userId='109', firstname='Casey', ts=1538892341000, page='Logout', level='free', churn=1),\n",
       " Row(userId='109', firstname='Casey', ts=1538892370000, page='Home', level='free', churn=1),\n",
       " Row(userId='109', firstname='Casey', ts=1538892545000, page='NextSong', level='free', churn=1),\n",
       " Row(userId='109', firstname='Casey', ts=1538892631000, page='Upgrade', level='free', churn=1),\n",
       " Row(userId='109', firstname='Casey', ts=1538892849000, page='NextSong', level='free', churn=1),\n",
       " Row(userId='109', firstname='Casey', ts=1538893182000, page='NextSong', level='free', churn=1),\n",
       " Row(userId='109', firstname='Casey', ts=1538893416000, page='NextSong', level='free', churn=1),\n",
       " Row(userId='109', firstname='Casey', ts=1538893556000, page='NextSong', level='free', churn=1),\n",
       " Row(userId='109', firstname='Casey', ts=1538893734000, page='NextSong', level='free', churn=1),\n",
       " Row(userId='109', firstname='Casey', ts=1538894011000, page='NextSong', level='free', churn=1),\n",
       " Row(userId='109', firstname='Casey', ts=1538894256000, page='NextSong', level='free', churn=1),\n",
       " Row(userId='109', firstname='Casey', ts=1538894546000, page='NextSong', level='free', churn=1),\n",
       " Row(userId='109', firstname='Casey', ts=1538894782000, page='NextSong', level='free', churn=1),\n",
       " Row(userId='109', firstname='Casey', ts=1538895005000, page='NextSong', level='free', churn=1),\n",
       " Row(userId='109', firstname='Casey', ts=1538895145000, page='NextSong', level='free', churn=1),\n",
       " Row(userId='109', firstname='Casey', ts=1538895251000, page='NextSong', level='free', churn=1),\n",
       " Row(userId='109', firstname='Casey', ts=1538895384000, page='NextSong', level='free', churn=1),\n",
       " Row(userId='109', firstname='Casey', ts=1538895545000, page='NextSong', level='free', churn=1),\n",
       " Row(userId='109', firstname='Casey', ts=1538895592000, page='Upgrade', level='free', churn=1),\n",
       " Row(userId='109', firstname='Casey', ts=1538895593000, page='Submit Upgrade', level='free', churn=1),\n",
       " Row(userId='109', firstname='Casey', ts=1538895825000, page='Home', level='paid', churn=1),\n",
       " Row(userId='109', firstname='Casey', ts=1538895881000, page='NextSong', level='paid', churn=1),\n",
       " Row(userId='109', firstname='Casey', ts=1538895988000, page='NextSong', level='paid', churn=1),\n",
       " Row(userId='109', firstname='Casey', ts=1538896214000, page='NextSong', level='paid', churn=1),\n",
       " Row(userId='109', firstname='Casey', ts=1538896404000, page='NextSong', level='paid', churn=1),\n",
       " Row(userId='109', firstname='Casey', ts=1538896617000, page='NextSong', level='paid', churn=1),\n",
       " Row(userId='109', firstname='Casey', ts=1538896804000, page='NextSong', level='paid', churn=1),\n",
       " Row(userId='109', firstname='Casey', ts=1538896837000, page='Home', level='paid', churn=1),\n",
       " Row(userId='109', firstname='Casey', ts=1538897022000, page='NextSong', level='paid', churn=1),\n",
       " Row(userId='109', firstname='Casey', ts=1539091660000, page='Home', level='paid', churn=1),\n",
       " Row(userId='109', firstname='Casey', ts=1539091694000, page='NextSong', level='paid', churn=1),\n",
       " Row(userId='109', firstname='Casey', ts=1539092042000, page='NextSong', level='paid', churn=1),\n",
       " Row(userId='109', firstname='Casey', ts=1539092047000, page='Help', level='paid', churn=1),\n",
       " Row(userId='109', firstname='Casey', ts=1539092207000, page='NextSong', level='paid', churn=1),\n",
       " Row(userId='109', firstname='Casey', ts=1539092533000, page='NextSong', level='paid', churn=1),\n",
       " Row(userId='109', firstname='Casey', ts=1539092838000, page='NextSong', level='paid', churn=1),\n",
       " Row(userId='109', firstname='Casey', ts=1539092907000, page='Home', level='paid', churn=1),\n",
       " Row(userId='109', firstname='Casey', ts=1539093116000, page='NextSong', level='paid', churn=1),\n",
       " Row(userId='109', firstname='Casey', ts=1539093625000, page='NextSong', level='paid', churn=1),\n",
       " Row(userId='109', firstname='Casey', ts=1539093885000, page='NextSong', level='paid', churn=1),\n",
       " Row(userId='109', firstname='Casey', ts=1539094139000, page='NextSong', level='paid', churn=1),\n",
       " Row(userId='109', firstname='Casey', ts=1539094328000, page='NextSong', level='paid', churn=1),\n",
       " Row(userId='109', firstname='Casey', ts=1539094329000, page='Thumbs Up', level='paid', churn=1),\n",
       " Row(userId='109', firstname='Casey', ts=1539094592000, page='NextSong', level='paid', churn=1),\n",
       " Row(userId='109', firstname='Casey', ts=1539095181000, page='NextSong', level='paid', churn=1),\n",
       " Row(userId='109', firstname='Casey', ts=1539095449000, page='NextSong', level='paid', churn=1),\n",
       " Row(userId='109', firstname='Casey', ts=1539095575000, page='NextSong', level='paid', churn=1),\n",
       " Row(userId='109', firstname='Casey', ts=1539095843000, page='NextSong', level='paid', churn=1),\n",
       " Row(userId='109', firstname='Casey', ts=1539096071000, page='NextSong', level='paid', churn=1),\n",
       " Row(userId='109', firstname='Casey', ts=1539096302000, page='NextSong', level='paid', churn=1),\n",
       " Row(userId='109', firstname='Casey', ts=1539096508000, page='NextSong', level='paid', churn=1),\n",
       " Row(userId='109', firstname='Casey', ts=1539096938000, page='NextSong', level='paid', churn=1),\n",
       " Row(userId='109', firstname='Casey', ts=1539097083000, page='NextSong', level='paid', churn=1),\n",
       " Row(userId='109', firstname='Casey', ts=1539097292000, page='NextSong', level='paid', churn=1),\n",
       " Row(userId='109', firstname='Casey', ts=1539097338000, page='Home', level='paid', churn=1),\n",
       " Row(userId='109', firstname='Casey', ts=1539097749000, page='NextSong', level='paid', churn=1),\n",
       " Row(userId='109', firstname='Casey', ts=1539097953000, page='NextSong', level='paid', churn=1),\n",
       " Row(userId='109', firstname='Casey', ts=1539098095000, page='NextSong', level='paid', churn=1),\n",
       " Row(userId='109', firstname='Casey', ts=1539098258000, page='Home', level='paid', churn=1),\n",
       " Row(userId='109', firstname='Casey', ts=1539098335000, page='NextSong', level='paid', churn=1),\n",
       " Row(userId='109', firstname='Casey', ts=1539098619000, page='NextSong', level='paid', churn=1),\n",
       " Row(userId='109', firstname='Casey', ts=1539098702000, page='Home', level='paid', churn=1),\n",
       " Row(userId='109', firstname='Casey', ts=1539098813000, page='NextSong', level='paid', churn=1),\n",
       " Row(userId='109', firstname='Casey', ts=1539099130000, page='NextSong', level='paid', churn=1),\n",
       " Row(userId='109', firstname='Casey', ts=1539099424000, page='NextSong', level='paid', churn=1),\n",
       " Row(userId='109', firstname='Casey', ts=1539099638000, page='NextSong', level='paid', churn=1),\n",
       " Row(userId='109', firstname='Casey', ts=1539099871000, page='NextSong', level='paid', churn=1),\n",
       " Row(userId='109', firstname='Casey', ts=1539100062000, page='NextSong', level='paid', churn=1),\n",
       " Row(userId='109', firstname='Casey', ts=1539100361000, page='NextSong', level='paid', churn=1),\n",
       " Row(userId='109', firstname='Casey', ts=1539100603000, page='NextSong', level='paid', churn=1),\n",
       " Row(userId='109', firstname='Casey', ts=1539100867000, page='NextSong', level='paid', churn=1),\n",
       " Row(userId='109', firstname='Casey', ts=1539101035000, page='NextSong', level='paid', churn=1),\n",
       " Row(userId='109', firstname='Casey', ts=1539101240000, page='NextSong', level='paid', churn=1),\n",
       " Row(userId='109', firstname='Casey', ts=1539101478000, page='NextSong', level='paid', churn=1),\n",
       " Row(userId='109', firstname='Casey', ts=1539101727000, page='NextSong', level='paid', churn=1),\n",
       " Row(userId='109', firstname='Casey', ts=1539101912000, page='NextSong', level='paid', churn=1),\n",
       " Row(userId='109', firstname='Casey', ts=1539101940000, page='Add to Playlist', level='paid', churn=1),\n",
       " Row(userId='109', firstname='Casey', ts=1539102217000, page='NextSong', level='paid', churn=1),\n",
       " Row(userId='109', firstname='Casey', ts=1539102392000, page='NextSong', level='paid', churn=1),\n",
       " Row(userId='109', firstname='Casey', ts=1539102690000, page='NextSong', level='paid', churn=1),\n",
       " Row(userId='109', firstname='Casey', ts=1539102936000, page='NextSong', level='paid', churn=1),\n",
       " Row(userId='109', firstname='Casey', ts=1539103165000, page='NextSong', level='paid', churn=1),\n",
       " Row(userId='109', firstname='Casey', ts=1539103433000, page='NextSong', level='paid', churn=1),\n",
       " Row(userId='109', firstname='Casey', ts=1539103727000, page='NextSong', level='paid', churn=1),\n",
       " Row(userId='109', firstname='Casey', ts=1539103987000, page='NextSong', level='paid', churn=1),\n",
       " Row(userId='109', firstname='Casey', ts=1539104159000, page='NextSong', level='paid', churn=1),\n",
       " Row(userId='109', firstname='Casey', ts=1539104374000, page='NextSong', level='paid', churn=1),\n",
       " Row(userId='109', firstname='Casey', ts=1539104580000, page='NextSong', level='paid', churn=1),\n",
       " Row(userId='109', firstname='Casey', ts=1539104789000, page='NextSong', level='paid', churn=1),\n",
       " Row(userId='109', firstname='Casey', ts=1539105200000, page='NextSong', level='paid', churn=1),\n",
       " Row(userId='109', firstname='Casey', ts=1539105411000, page='NextSong', level='paid', churn=1),\n",
       " Row(userId='109', firstname='Casey', ts=1539106066000, page='NextSong', level='paid', churn=1),\n",
       " Row(userId='109', firstname='Casey', ts=1539106207000, page='NextSong', level='paid', churn=1),\n",
       " Row(userId='109', firstname='Casey', ts=1539106494000, page='NextSong', level='paid', churn=1),\n",
       " Row(userId='109', firstname='Casey', ts=1539106663000, page='NextSong', level='paid', churn=1),\n",
       " Row(userId='109', firstname='Casey', ts=1539106930000, page='NextSong', level='paid', churn=1),\n",
       " Row(userId='109', firstname='Casey', ts=1539107352000, page='NextSong', level='paid', churn=1),\n",
       " Row(userId='109', firstname='Casey', ts=1539107720000, page='NextSong', level='paid', churn=1),\n",
       " Row(userId='109', firstname='Casey', ts=1539107971000, page='NextSong', level='paid', churn=1),\n",
       " Row(userId='109', firstname='Casey', ts=1539108212000, page='NextSong', level='paid', churn=1),\n",
       " Row(userId='109', firstname='Casey', ts=1539108424000, page='NextSong', level='paid', churn=1),\n",
       " Row(userId='109', firstname='Casey', ts=1539108708000, page='NextSong', level='paid', churn=1),\n",
       " Row(userId='109', firstname='Casey', ts=1539109024000, page='NextSong', level='paid', churn=1),\n",
       " Row(userId='109', firstname='Casey', ts=1539109287000, page='NextSong', level='paid', churn=1),\n",
       " Row(userId='109', firstname='Casey', ts=1539109445000, page='NextSong', level='paid', churn=1),\n",
       " Row(userId='109', firstname='Casey', ts=1539109617000, page='NextSong', level='paid', churn=1),\n",
       " Row(userId='109', firstname='Casey', ts=1539109916000, page='NextSong', level='paid', churn=1),\n",
       " Row(userId='109', firstname='Casey', ts=1539109917000, page='Thumbs Up', level='paid', churn=1),\n",
       " Row(userId='109', firstname='Casey', ts=1539110263000, page='NextSong', level='paid', churn=1),\n",
       " Row(userId='109', firstname='Casey', ts=1539110465000, page='NextSong', level='paid', churn=1),\n",
       " Row(userId='109', firstname='Casey', ts=1539110720000, page='NextSong', level='paid', churn=1),\n",
       " Row(userId='109', firstname='Casey', ts=1539110904000, page='NextSong', level='paid', churn=1),\n",
       " Row(userId='109', firstname='Casey', ts=1539111095000, page='NextSong', level='paid', churn=1),\n",
       " Row(userId='109', firstname='Casey', ts=1539111096000, page='Logout', level='paid', churn=1),\n",
       " Row(userId='109', firstname='Casey', ts=1539111339000, page='Home', level='paid', churn=1),\n",
       " Row(userId='109', firstname='Casey', ts=1539111340000, page='NextSong', level='paid', churn=1),\n",
       " Row(userId='109', firstname='Casey', ts=1539111592000, page='NextSong', level='paid', churn=1),\n",
       " Row(userId='109', firstname='Casey', ts=1539111816000, page='NextSong', level='paid', churn=1),\n",
       " Row(userId='109', firstname='Casey', ts=1539112006000, page='NextSong', level='paid', churn=1),\n",
       " Row(userId='109', firstname='Casey', ts=1539112219000, page='NextSong', level='paid', churn=1),\n",
       " Row(userId='109', firstname='Casey', ts=1539112632000, page='NextSong', level='paid', churn=1),\n",
       " Row(userId='109', firstname='Casey', ts=1539112860000, page='NextSong', level='paid', churn=1),\n",
       " Row(userId='109', firstname='Casey', ts=1539113401000, page='NextSong', level='paid', churn=1),\n",
       " Row(userId='109', firstname='Casey', ts=1539113509000, page='NextSong', level='paid', churn=1),\n",
       " Row(userId='109', firstname='Casey', ts=1539113715000, page='NextSong', level='paid', churn=1),\n",
       " Row(userId='109', firstname='Casey', ts=1539114018000, page='NextSong', level='paid', churn=1),\n",
       " Row(userId='109', firstname='Casey', ts=1539114194000, page='NextSong', level='paid', churn=1),\n",
       " Row(userId='109', firstname='Casey', ts=1539114195000, page='Logout', level='paid', churn=1),\n",
       " Row(userId='109', firstname='Casey', ts=1539114398000, page='Home', level='paid', churn=1),\n",
       " Row(userId='109', firstname='Casey', ts=1539114492000, page='NextSong', level='paid', churn=1),\n",
       " Row(userId='109', firstname='Casey', ts=1539114785000, page='NextSong', level='paid', churn=1),\n",
       " Row(userId='109', firstname='Casey', ts=1539115096000, page='NextSong', level='paid', churn=1),\n",
       " Row(userId='109', firstname='Casey', ts=1539115396000, page='NextSong', level='paid', churn=1),\n",
       " Row(userId='109', firstname='Casey', ts=1539115456000, page='Add to Playlist', level='paid', churn=1),\n",
       " Row(userId='109', firstname='Casey', ts=1539115614000, page='NextSong', level='paid', churn=1),\n",
       " Row(userId='109', firstname='Casey', ts=1539115632000, page='Add to Playlist', level='paid', churn=1),\n",
       " Row(userId='109', firstname='Casey', ts=1539115869000, page='NextSong', level='paid', churn=1),\n",
       " Row(userId='109', firstname='Casey', ts=1539116055000, page='NextSong', level='paid', churn=1),\n",
       " Row(userId='109', firstname='Casey', ts=1539116264000, page='NextSong', level='paid', churn=1),\n",
       " Row(userId='109', firstname='Casey', ts=1539116386000, page='NextSong', level='paid', churn=1),\n",
       " Row(userId='109', firstname='Casey', ts=1539116625000, page='NextSong', level='paid', churn=1),\n",
       " Row(userId='109', firstname='Casey', ts=1539117015000, page='NextSong', level='paid', churn=1),\n",
       " Row(userId='109', firstname='Casey', ts=1539117211000, page='NextSong', level='paid', churn=1),\n",
       " Row(userId='109', firstname='Casey', ts=1539117509000, page='NextSong', level='paid', churn=1),\n",
       " Row(userId='109', firstname='Casey', ts=1539117692000, page='NextSong', level='paid', churn=1),\n",
       " Row(userId='109', firstname='Casey', ts=1539117933000, page='NextSong', level='paid', churn=1),\n",
       " Row(userId='109', firstname='Casey', ts=1539118342000, page='NextSong', level='paid', churn=1),\n",
       " Row(userId='109', firstname='Casey', ts=1539118595000, page='NextSong', level='paid', churn=1),\n",
       " Row(userId='109', firstname='Casey', ts=1539118833000, page='NextSong', level='paid', churn=1),\n",
       " Row(userId='109', firstname='Casey', ts=1539119072000, page='NextSong', level='paid', churn=1),\n",
       " Row(userId='109', firstname='Casey', ts=1539119181000, page='NextSong', level='paid', churn=1),\n",
       " Row(userId='109', firstname='Casey', ts=1539119370000, page='NextSong', level='paid', churn=1),\n",
       " Row(userId='109', firstname='Casey', ts=1539119373000, page='Add to Playlist', level='paid', churn=1),\n",
       " Row(userId='109', firstname='Casey', ts=1539119646000, page='NextSong', level='paid', churn=1),\n",
       " Row(userId='109', firstname='Casey', ts=1539119941000, page='NextSong', level='paid', churn=1),\n",
       " Row(userId='109', firstname='Casey', ts=1539120013000, page='Help', level='paid', churn=1),\n",
       " Row(userId='109', firstname='Casey', ts=1539120303000, page='NextSong', level='paid', churn=1),\n",
       " Row(userId='109', firstname='Casey', ts=1539120507000, page='NextSong', level='paid', churn=1),\n",
       " Row(userId='109', firstname='Casey', ts=1539120697000, page='NextSong', level='paid', churn=1),\n",
       " Row(userId='109', firstname='Casey', ts=1539121034000, page='NextSong', level='paid', churn=1),\n",
       " Row(userId='109', firstname='Casey', ts=1539121062000, page='Downgrade', level='paid', churn=1),\n",
       " Row(userId='109', firstname='Casey', ts=1539121312000, page='NextSong', level='paid', churn=1),\n",
       " Row(userId='109', firstname='Casey', ts=1539121593000, page='NextSong', level='paid', churn=1),\n",
       " Row(userId='109', firstname='Casey', ts=1539121716000, page='NextSong', level='paid', churn=1),\n",
       " Row(userId='109', firstname='Casey', ts=1539122273000, page='NextSong', level='paid', churn=1),\n",
       " Row(userId='109', firstname='Casey', ts=1539122293000, page='Downgrade', level='paid', churn=1),\n",
       " Row(userId='109', firstname='Casey', ts=1539122320000, page='Home', level='paid', churn=1),\n",
       " Row(userId='109', firstname='Casey', ts=1539122410000, page='Settings', level='paid', churn=1),\n",
       " Row(userId='109', firstname='Casey', ts=1539122411000, page='Save Settings', level='paid', churn=1),\n",
       " Row(userId='109', firstname='Casey', ts=1539122457000, page='Settings', level='paid', churn=1),\n",
       " Row(userId='109', firstname='Casey', ts=1539122500000, page='Downgrade', level='paid', churn=1),\n",
       " Row(userId='109', firstname='Casey', ts=1539122552000, page='Home', level='paid', churn=1),\n",
       " Row(userId='109', firstname='Casey', ts=1539122553000, page='Add Friend', level='paid', churn=1),\n",
       " Row(userId='109', firstname='Casey', ts=1539122679000, page='NextSong', level='paid', churn=1),\n",
       " Row(userId='109', firstname='Casey', ts=1539123002000, page='NextSong', level='paid', churn=1),\n",
       " Row(userId='109', firstname='Casey', ts=1539123149000, page='NextSong', level='paid', churn=1),\n",
       " Row(userId='109', firstname='Casey', ts=1539123327000, page='NextSong', level='paid', churn=1),\n",
       " Row(userId='109', firstname='Casey', ts=1539123526000, page='NextSong', level='paid', churn=1),\n",
       " Row(userId='109', firstname='Casey', ts=1539123779000, page='NextSong', level='paid', churn=1),\n",
       " Row(userId='109', firstname='Casey', ts=1539124254000, page='NextSong', level='paid', churn=1),\n",
       " Row(userId='109', firstname='Casey', ts=1539124513000, page='NextSong', level='paid', churn=1),\n",
       " Row(userId='109', firstname='Casey', ts=1539124749000, page='NextSong', level='paid', churn=1),\n",
       " Row(userId='109', firstname='Casey', ts=1539124993000, page='NextSong', level='paid', churn=1),\n",
       " Row(userId='109', firstname='Casey', ts=1539125168000, page='NextSong', level='paid', churn=1),\n",
       " Row(userId='109', firstname='Casey', ts=1539125421000, page='NextSong', level='paid', churn=1),\n",
       " Row(userId='109', firstname='Casey', ts=1539125603000, page='NextSong', level='paid', churn=1),\n",
       " Row(userId='109', firstname='Casey', ts=1539125834000, page='NextSong', level='paid', churn=1),\n",
       " Row(userId='109', firstname='Casey', ts=1539126100000, page='NextSong', level='paid', churn=1),\n",
       " Row(userId='109', firstname='Casey', ts=1539126295000, page='NextSong', level='paid', churn=1),\n",
       " Row(userId='109', firstname='Casey', ts=1539126467000, page='NextSong', level='paid', churn=1),\n",
       " Row(userId='109', firstname='Casey', ts=1539126672000, page='NextSong', level='paid', churn=1),\n",
       " Row(userId='109', firstname='Casey', ts=1539126909000, page='NextSong', level='paid', churn=1),\n",
       " Row(userId='109', firstname='Casey', ts=1539127554000, page='NextSong', level='paid', churn=1),\n",
       " Row(userId='109', firstname='Casey', ts=1539127754000, page='NextSong', level='paid', churn=1),\n",
       " Row(userId='109', firstname='Casey', ts=1539128035000, page='NextSong', level='paid', churn=1),\n",
       " Row(userId='109', firstname='Casey', ts=1539128329000, page='NextSong', level='paid', churn=1),\n",
       " Row(userId='109', firstname='Casey', ts=1539354572000, page='Home', level='paid', churn=1),\n",
       " Row(userId='109', firstname='Casey', ts=1539354573000, page='Add Friend', level='paid', churn=1),\n",
       " Row(userId='109', firstname='Casey', ts=1539354591000, page='NextSong', level='paid', churn=1),\n",
       " Row(userId='109', firstname='Casey', ts=1539354799000, page='NextSong', level='paid', churn=1),\n",
       " Row(userId='109', firstname='Casey', ts=1539355037000, page='NextSong', level='paid', churn=1),\n",
       " Row(userId='109', firstname='Casey', ts=1539355063000, page='Home', level='paid', churn=1),\n",
       " Row(userId='109', firstname='Casey', ts=1539355412000, page='NextSong', level='paid', churn=1),\n",
       " Row(userId='109', firstname='Casey', ts=1539355600000, page='NextSong', level='paid', churn=1),\n",
       " Row(userId='109', firstname='Casey', ts=1539355601000, page='Thumbs Up', level='paid', churn=1),\n",
       " Row(userId='109', firstname='Casey', ts=1539355875000, page='NextSong', level='paid', churn=1),\n",
       " Row(userId='109', firstname='Casey', ts=1539355876000, page='Thumbs Up', level='paid', churn=1),\n",
       " Row(userId='109', firstname='Casey', ts=1539356150000, page='NextSong', level='paid', churn=1),\n",
       " Row(userId='109', firstname='Casey', ts=1539356399000, page='NextSong', level='paid', churn=1),\n",
       " Row(userId='109', firstname='Casey', ts=1539356642000, page='NextSong', level='paid', churn=1),\n",
       " Row(userId='109', firstname='Casey', ts=1539356827000, page='NextSong', level='paid', churn=1),\n",
       " Row(userId='109', firstname='Casey', ts=1539357082000, page='NextSong', level='paid', churn=1),\n",
       " Row(userId='109', firstname='Casey', ts=1539357122000, page='Downgrade', level='paid', churn=1),\n",
       " Row(userId='109', firstname='Casey', ts=1539357123000, page='Logout', level='paid', churn=1),\n",
       " Row(userId='109', firstname='Casey', ts=1539357324000, page='Home', level='paid', churn=1),\n",
       " Row(userId='109', firstname='Casey', ts=1539489926000, page='Home', level='paid', churn=1),\n",
       " Row(userId='109', firstname='Casey', ts=1539489943000, page='NextSong', level='paid', churn=1),\n",
       " Row(userId='109', firstname='Casey', ts=1539490405000, page='NextSong', level='paid', churn=1),\n",
       " Row(userId='109', firstname='Casey', ts=1539490672000, page='NextSong', level='paid', churn=1),\n",
       " Row(userId='109', firstname='Casey', ts=1539490840000, page='NextSong', level='paid', churn=1),\n",
       " Row(userId='109', firstname='Casey', ts=1539491060000, page='NextSong', level='paid', churn=1),\n",
       " Row(userId='109', firstname='Casey', ts=1539491310000, page='NextSong', level='paid', churn=1),\n",
       " Row(userId='109', firstname='Casey', ts=1539491562000, page='NextSong', level='paid', churn=1),\n",
       " Row(userId='109', firstname='Casey', ts=1539491752000, page='NextSong', level='paid', churn=1),\n",
       " Row(userId='109', firstname='Casey', ts=1539491911000, page='NextSong', level='paid', churn=1),\n",
       " Row(userId='109', firstname='Casey', ts=1539492380000, page='NextSong', level='paid', churn=1),\n",
       " Row(userId='109', firstname='Casey', ts=1539492568000, page='NextSong', level='paid', churn=1),\n",
       " Row(userId='109', firstname='Casey', ts=1539492808000, page='NextSong', level='paid', churn=1),\n",
       " Row(userId='109', firstname='Casey', ts=1539493027000, page='NextSong', level='paid', churn=1),\n",
       " Row(userId='109', firstname='Casey', ts=1539493207000, page='NextSong', level='paid', churn=1),\n",
       " Row(userId='109', firstname='Casey', ts=1539493540000, page='NextSong', level='paid', churn=1),\n",
       " Row(userId='109', firstname='Casey', ts=1539493889000, page='NextSong', level='paid', churn=1),\n",
       " Row(userId='109', firstname='Casey', ts=1539494207000, page='NextSong', level='paid', churn=1),\n",
       " Row(userId='109', firstname='Casey', ts=1539494512000, page='NextSong', level='paid', churn=1),\n",
       " Row(userId='109', firstname='Casey', ts=1539494860000, page='NextSong', level='paid', churn=1),\n",
       " Row(userId='109', firstname='Casey', ts=1539495114000, page='NextSong', level='paid', churn=1),\n",
       " Row(userId='109', firstname='Casey', ts=1539495296000, page='NextSong', level='paid', churn=1),\n",
       " Row(userId='109', firstname='Casey', ts=1539495492000, page='NextSong', level='paid', churn=1),\n",
       " Row(userId='109', firstname='Casey', ts=1539495922000, page='NextSong', level='paid', churn=1),\n",
       " Row(userId='109', firstname='Casey', ts=1539496098000, page='NextSong', level='paid', churn=1),\n",
       " Row(userId='109', firstname='Casey', ts=1539496338000, page='NextSong', level='paid', churn=1),\n",
       " Row(userId='109', firstname='Casey', ts=1539496576000, page='NextSong', level='paid', churn=1),\n",
       " Row(userId='109', firstname='Casey', ts=1539496781000, page='NextSong', level='paid', churn=1),\n",
       " Row(userId='109', firstname='Casey', ts=1539496956000, page='NextSong', level='paid', churn=1),\n",
       " Row(userId='109', firstname='Casey', ts=1539497198000, page='NextSong', level='paid', churn=1),\n",
       " Row(userId='109', firstname='Casey', ts=1539497488000, page='NextSong', level='paid', churn=1),\n",
       " Row(userId='109', firstname='Casey', ts=1539497818000, page='NextSong', level='paid', churn=1),\n",
       " Row(userId='109', firstname='Casey', ts=1539498040000, page='NextSong', level='paid', churn=1),\n",
       " Row(userId='109', firstname='Casey', ts=1539498089000, page='Add to Playlist', level='paid', churn=1),\n",
       " Row(userId='109', firstname='Casey', ts=1539498267000, page='NextSong', level='paid', churn=1),\n",
       " Row(userId='109', firstname='Casey', ts=1539498513000, page='NextSong', level='paid', churn=1),\n",
       " Row(userId='109', firstname='Casey', ts=1539498721000, page='NextSong', level='paid', churn=1),\n",
       " Row(userId='109', firstname='Casey', ts=1539498963000, page='NextSong', level='paid', churn=1),\n",
       " Row(userId='109', firstname='Casey', ts=1539499199000, page='NextSong', level='paid', churn=1),\n",
       " Row(userId='109', firstname='Casey', ts=1539499466000, page='NextSong', level='paid', churn=1),\n",
       " Row(userId='109', firstname='Casey', ts=1539499921000, page='NextSong', level='paid', churn=1),\n",
       " Row(userId='109', firstname='Casey', ts=1539500119000, page='NextSong', level='paid', churn=1),\n",
       " Row(userId='109', firstname='Casey', ts=1539500535000, page='NextSong', level='paid', churn=1),\n",
       " Row(userId='109', firstname='Casey', ts=1539500725000, page='NextSong', level='paid', churn=1),\n",
       " Row(userId='109', firstname='Casey', ts=1539500848000, page='NextSong', level='paid', churn=1),\n",
       " Row(userId='109', firstname='Casey', ts=1539500849000, page='Thumbs Up', level='paid', churn=1),\n",
       " Row(userId='109', firstname='Casey', ts=1539501065000, page='NextSong', level='paid', churn=1),\n",
       " Row(userId='109', firstname='Casey', ts=1539501327000, page='NextSong', level='paid', churn=1),\n",
       " Row(userId='109', firstname='Casey', ts=1539501593000, page='NextSong', level='paid', churn=1),\n",
       " Row(userId='109', firstname='Casey', ts=1539501661000, page='Downgrade', level='paid', churn=1),\n",
       " Row(userId='109', firstname='Casey', ts=1540206087000, page='NextSong', level='paid', churn=1),\n",
       " Row(userId='109', firstname='Casey', ts=1540206382000, page='NextSong', level='paid', churn=1),\n",
       " Row(userId='109', firstname='Casey', ts=1540206607000, page='NextSong', level='paid', churn=1),\n",
       " Row(userId='109', firstname='Casey', ts=1540206865000, page='NextSong', level='paid', churn=1),\n",
       " Row(userId='109', firstname='Casey', ts=1540207136000, page='NextSong', level='paid', churn=1),\n",
       " Row(userId='109', firstname='Casey', ts=1540207310000, page='NextSong', level='paid', churn=1),\n",
       " Row(userId='109', firstname='Casey', ts=1540207499000, page='NextSong', level='paid', churn=1),\n",
       " Row(userId='109', firstname='Casey', ts=1540207721000, page='Roll Advert', level='paid', churn=1),\n",
       " Row(userId='109', firstname='Casey', ts=1540207740000, page='NextSong', level='paid', churn=1),\n",
       " Row(userId='109', firstname='Casey', ts=1540208007000, page='NextSong', level='paid', churn=1),\n",
       " Row(userId='109', firstname='Casey', ts=1540208242000, page='NextSong', level='paid', churn=1),\n",
       " Row(userId='109', firstname='Casey', ts=1540208491000, page='NextSong', level='paid', churn=1),\n",
       " Row(userId='109', firstname='Casey', ts=1540208686000, page='NextSong', level='paid', churn=1),\n",
       " Row(userId='109', firstname='Casey', ts=1540209116000, page='NextSong', level='paid', churn=1),\n",
       " Row(userId='109', firstname='Casey', ts=1540209389000, page='NextSong', level='paid', churn=1),\n",
       " Row(userId='109', firstname='Casey', ts=1540454747000, page='NextSong', level='paid', churn=1),\n",
       " Row(userId='109', firstname='Casey', ts=1540454998000, page='NextSong', level='paid', churn=1),\n",
       " Row(userId='109', firstname='Casey', ts=1540455179000, page='NextSong', level='paid', churn=1),\n",
       " Row(userId='109', firstname='Casey', ts=1540455355000, page='NextSong', level='paid', churn=1),\n",
       " Row(userId='109', firstname='Casey', ts=1540455570000, page='NextSong', level='paid', churn=1),\n",
       " Row(userId='109', firstname='Casey', ts=1540455571000, page='Add Friend', level='paid', churn=1),\n",
       " Row(userId='109', firstname='Casey', ts=1540455806000, page='NextSong', level='paid', churn=1),\n",
       " Row(userId='109', firstname='Casey', ts=1540456086000, page='NextSong', level='paid', churn=1),\n",
       " Row(userId='109', firstname='Casey', ts=1540456408000, page='NextSong', level='paid', churn=1),\n",
       " Row(userId='109', firstname='Casey', ts=1540456602000, page='NextSong', level='paid', churn=1),\n",
       " Row(userId='109', firstname='Casey', ts=1540456789000, page='NextSong', level='paid', churn=1),\n",
       " Row(userId='109', firstname='Casey', ts=1540457010000, page='NextSong', level='paid', churn=1),\n",
       " Row(userId='109', firstname='Casey', ts=1540457243000, page='NextSong', level='paid', churn=1),\n",
       " Row(userId='109', firstname='Casey', ts=1540457259000, page='Home', level='paid', churn=1),\n",
       " Row(userId='109', firstname='Casey', ts=1540457492000, page='NextSong', level='paid', churn=1),\n",
       " Row(userId='109', firstname='Casey', ts=1540457734000, page='NextSong', level='paid', churn=1),\n",
       " Row(userId='109', firstname='Casey', ts=1540458007000, page='NextSong', level='paid', churn=1),\n",
       " Row(userId='109', firstname='Casey', ts=1540458258000, page='NextSong', level='paid', churn=1),\n",
       " Row(userId='109', firstname='Casey', ts=1540458608000, page='NextSong', level='paid', churn=1),\n",
       " Row(userId='109', firstname='Casey', ts=1540458806000, page='NextSong', level='paid', churn=1),\n",
       " Row(userId='109', firstname='Casey', ts=1540459019000, page='NextSong', level='paid', churn=1),\n",
       " Row(userId='109', firstname='Casey', ts=1540459354000, page='NextSong', level='paid', churn=1),\n",
       " Row(userId='109', firstname='Casey', ts=1540459526000, page='NextSong', level='paid', churn=1),\n",
       " Row(userId='109', firstname='Casey', ts=1540459778000, page='NextSong', level='paid', churn=1),\n",
       " Row(userId='109', firstname='Casey', ts=1540459966000, page='NextSong', level='paid', churn=1),\n",
       " Row(userId='109', firstname='Casey', ts=1540459967000, page='Add Friend', level='paid', churn=1),\n",
       " Row(userId='109', firstname='Casey', ts=1540460235000, page='NextSong', level='paid', churn=1),\n",
       " Row(userId='109', firstname='Casey', ts=1540460525000, page='NextSong', level='paid', churn=1),\n",
       " Row(userId='109', firstname='Casey', ts=1540460526000, page='Thumbs Up', level='paid', churn=1),\n",
       " Row(userId='109', firstname='Casey', ts=1540460747000, page='NextSong', level='paid', churn=1),\n",
       " Row(userId='109', firstname='Casey', ts=1540460896000, page='NextSong', level='paid', churn=1),\n",
       " Row(userId='109', firstname='Casey', ts=1540460897000, page='Thumbs Down', level='paid', churn=1),\n",
       " Row(userId='109', firstname='Casey', ts=1540461120000, page='NextSong', level='paid', churn=1),\n",
       " Row(userId='109', firstname='Casey', ts=1540461121000, page='Thumbs Up', level='paid', churn=1),\n",
       " Row(userId='109', firstname='Casey', ts=1540461571000, page='NextSong', level='paid', churn=1),\n",
       " Row(userId='109', firstname='Casey', ts=1540461809000, page='NextSong', level='paid', churn=1),\n",
       " Row(userId='109', firstname='Casey', ts=1540462044000, page='NextSong', level='paid', churn=1),\n",
       " Row(userId='109', firstname='Casey', ts=1540462498000, page='NextSong', level='paid', churn=1),\n",
       " Row(userId='109', firstname='Casey', ts=1540462700000, page='NextSong', level='paid', churn=1),\n",
       " Row(userId='109', firstname='Casey', ts=1540462990000, page='NextSong', level='paid', churn=1),\n",
       " Row(userId='109', firstname='Casey', ts=1540463207000, page='NextSong', level='paid', churn=1),\n",
       " Row(userId='109', firstname='Casey', ts=1540463357000, page='NextSong', level='paid', churn=1),\n",
       " Row(userId='109', firstname='Casey', ts=1540463634000, page='NextSong', level='paid', churn=1),\n",
       " Row(userId='109', firstname='Casey', ts=1540463635000, page='Logout', level='paid', churn=1),\n",
       " Row(userId='109', firstname='Casey', ts=1540463743000, page='Home', level='paid', churn=1),\n",
       " Row(userId='109', firstname='Casey', ts=1540464008000, page='NextSong', level='paid', churn=1),\n",
       " Row(userId='109', firstname='Casey', ts=1540464272000, page='NextSong', level='paid', churn=1),\n",
       " Row(userId='109', firstname='Casey', ts=1540464350000, page='NextSong', level='paid', churn=1),\n",
       " Row(userId='109', firstname='Casey', ts=1540464576000, page='NextSong', level='paid', churn=1),\n",
       " Row(userId='109', firstname='Casey', ts=1540464577000, page='Thumbs Down', level='paid', churn=1),\n",
       " Row(userId='109', firstname='Casey', ts=1540464995000, page='NextSong', level='paid', churn=1),\n",
       " Row(userId='109', firstname='Casey', ts=1540465177000, page='NextSong', level='paid', churn=1),\n",
       " Row(userId='109', firstname='Casey', ts=1540465462000, page='NextSong', level='paid', churn=1),\n",
       " Row(userId='109', firstname='Casey', ts=1540465700000, page='NextSong', level='paid', churn=1),\n",
       " Row(userId='109', firstname='Casey', ts=1540465971000, page='NextSong', level='paid', churn=1),\n",
       " Row(userId='109', firstname='Casey', ts=1540466193000, page='NextSong', level='paid', churn=1),\n",
       " Row(userId='109', firstname='Casey', ts=1540466350000, page='NextSong', level='paid', churn=1),\n",
       " Row(userId='109', firstname='Casey', ts=1540466573000, page='NextSong', level='paid', churn=1),\n",
       " Row(userId='109', firstname='Casey', ts=1540466726000, page='NextSong', level='paid', churn=1),\n",
       " Row(userId='109', firstname='Casey', ts=1540466924000, page='NextSong', level='paid', churn=1),\n",
       " Row(userId='109', firstname='Casey', ts=1540467195000, page='NextSong', level='paid', churn=1),\n",
       " Row(userId='109', firstname='Casey', ts=1540467196000, page='Thumbs Up', level='paid', churn=1),\n",
       " Row(userId='109', firstname='Casey', ts=1540467470000, page='NextSong', level='paid', churn=1),\n",
       " Row(userId='109', firstname='Casey', ts=1540467738000, page='NextSong', level='paid', churn=1),\n",
       " Row(userId='109', firstname='Casey', ts=1540467738000, page='Downgrade', level='paid', churn=1),\n",
       " Row(userId='109', firstname='Casey', ts=1540467739000, page='Logout', level='paid', churn=1),\n",
       " Row(userId='109', firstname='Casey', ts=1540467779000, page='Home', level='paid', churn=1),\n",
       " Row(userId='109', firstname='Casey', ts=1540827543000, page='NextSong', level='paid', churn=1),\n",
       " Row(userId='109', firstname='Casey', ts=1540827718000, page='NextSong', level='paid', churn=1),\n",
       " Row(userId='109', firstname='Casey', ts=1540827901000, page='NextSong', level='paid', churn=1),\n",
       " Row(userId='109', firstname='Casey', ts=1540828135000, page='NextSong', level='paid', churn=1),\n",
       " Row(userId='109', firstname='Casey', ts=1540828388000, page='NextSong', level='paid', churn=1),\n",
       " Row(userId='109', firstname='Casey', ts=1540828615000, page='NextSong', level='paid', churn=1),\n",
       " Row(userId='109', firstname='Casey', ts=1540828783000, page='NextSong', level='paid', churn=1),\n",
       " Row(userId='109', firstname='Casey', ts=1540828796000, page='Add to Playlist', level='paid', churn=1),\n",
       " Row(userId='109', firstname='Casey', ts=1540828981000, page='NextSong', level='paid', churn=1),\n",
       " Row(userId='109', firstname='Casey', ts=1540829238000, page='NextSong', level='paid', churn=1),\n",
       " Row(userId='109', firstname='Casey', ts=1540829239000, page='Thumbs Down', level='paid', churn=1),\n",
       " Row(userId='109', firstname='Casey', ts=1540829735000, page='NextSong', level='paid', churn=1),\n",
       " Row(userId='109', firstname='Casey', ts=1540830018000, page='NextSong', level='paid', churn=1),\n",
       " Row(userId='109', firstname='Casey', ts=1540830205000, page='NextSong', level='paid', churn=1),\n",
       " Row(userId='109', firstname='Casey', ts=1540830414000, page='NextSong', level='paid', churn=1),\n",
       " Row(userId='109', firstname='Casey', ts=1540830695000, page='NextSong', level='paid', churn=1),\n",
       " Row(userId='109', firstname='Casey', ts=1540830880000, page='NextSong', level='paid', churn=1),\n",
       " Row(userId='109', firstname='Casey', ts=1540831116000, page='NextSong', level='paid', churn=1),\n",
       " Row(userId='109', firstname='Casey', ts=1540831342000, page='NextSong', level='paid', churn=1),\n",
       " Row(userId='109', firstname='Casey', ts=1540831534000, page='NextSong', level='paid', churn=1),\n",
       " Row(userId='109', firstname='Casey', ts=1540831720000, page='NextSong', level='paid', churn=1),\n",
       " Row(userId='109', firstname='Casey', ts=1540832003000, page='NextSong', level='paid', churn=1),\n",
       " Row(userId='109', firstname='Casey', ts=1540832187000, page='NextSong', level='paid', churn=1),\n",
       " Row(userId='109', firstname='Casey', ts=1540832188000, page='Add to Playlist', level='paid', churn=1),\n",
       " Row(userId='109', firstname='Casey', ts=1540832406000, page='NextSong', level='paid', churn=1),\n",
       " Row(userId='109', firstname='Casey', ts=1540832505000, page='NextSong', level='paid', churn=1),\n",
       " Row(userId='109', firstname='Casey', ts=1540832787000, page='NextSong', level='paid', churn=1),\n",
       " Row(userId='109', firstname='Casey', ts=1540832976000, page='NextSong', level='paid', churn=1),\n",
       " Row(userId='109', firstname='Casey', ts=1540833276000, page='NextSong', level='paid', churn=1),\n",
       " Row(userId='109', firstname='Casey', ts=1540833284000, page='Add to Playlist', level='paid', churn=1),\n",
       " Row(userId='109', firstname='Casey', ts=1540833597000, page='NextSong', level='paid', churn=1),\n",
       " Row(userId='109', firstname='Casey', ts=1540833852000, page='NextSong', level='paid', churn=1),\n",
       " Row(userId='109', firstname='Casey', ts=1540834075000, page='NextSong', level='paid', churn=1),\n",
       " Row(userId='109', firstname='Casey', ts=1540834306000, page='NextSong', level='paid', churn=1),\n",
       " Row(userId='109', firstname='Casey', ts=1540834535000, page='NextSong', level='paid', churn=1),\n",
       " Row(userId='109', firstname='Casey', ts=1540834588000, page='Home', level='paid', churn=1),\n",
       " Row(userId='109', firstname='Casey', ts=1540834589000, page='Add Friend', level='paid', churn=1),\n",
       " Row(userId='109', firstname='Casey', ts=1540834800000, page='NextSong', level='paid', churn=1),\n",
       " Row(userId='109', firstname='Casey', ts=1540834980000, page='NextSong', level='paid', churn=1),\n",
       " Row(userId='109', firstname='Casey', ts=1540835194000, page='NextSong', level='paid', churn=1),\n",
       " Row(userId='109', firstname='Casey', ts=1540835589000, page='NextSong', level='paid', churn=1),\n",
       " Row(userId='109', firstname='Casey', ts=1540835758000, page='NextSong', level='paid', churn=1),\n",
       " Row(userId='109', firstname='Casey', ts=1540835968000, page='NextSong', level='paid', churn=1),\n",
       " Row(userId='109', firstname='Casey', ts=1540836247000, page='NextSong', level='paid', churn=1),\n",
       " Row(userId='109', firstname='Casey', ts=1540836432000, page='NextSong', level='paid', churn=1),\n",
       " Row(userId='109', firstname='Casey', ts=1540836720000, page='NextSong', level='paid', churn=1),\n",
       " Row(userId='109', firstname='Casey', ts=1540836996000, page='NextSong', level='paid', churn=1),\n",
       " Row(userId='109', firstname='Casey', ts=1540837192000, page='NextSong', level='paid', churn=1),\n",
       " Row(userId='109', firstname='Casey', ts=1540837499000, page='NextSong', level='paid', churn=1),\n",
       " Row(userId='109', firstname='Casey', ts=1540837589000, page='Downgrade', level='paid', churn=1),\n",
       " Row(userId='109', firstname='Casey', ts=1540837744000, page='NextSong', level='paid', churn=1),\n",
       " Row(userId='109', firstname='Casey', ts=1540837999000, page='NextSong', level='paid', churn=1),\n",
       " Row(userId='109', firstname='Casey', ts=1540838145000, page='NextSong', level='paid', churn=1),\n",
       " Row(userId='109', firstname='Casey', ts=1540838333000, page='NextSong', level='paid', churn=1),\n",
       " Row(userId='109', firstname='Casey', ts=1540838502000, page='NextSong', level='paid', churn=1),\n",
       " Row(userId='109', firstname='Casey', ts=1540838785000, page='NextSong', level='paid', churn=1),\n",
       " Row(userId='109', firstname='Casey', ts=1540838929000, page='NextSong', level='paid', churn=1),\n",
       " Row(userId='109', firstname='Casey', ts=1540839151000, page='NextSong', level='paid', churn=1),\n",
       " Row(userId='109', firstname='Casey', ts=1540839410000, page='NextSong', level='paid', churn=1),\n",
       " Row(userId='109', firstname='Casey', ts=1540839635000, page='NextSong', level='paid', churn=1),\n",
       " Row(userId='109', firstname='Casey', ts=1540839920000, page='NextSong', level='paid', churn=1),\n",
       " Row(userId='109', firstname='Casey', ts=1540840113000, page='NextSong', level='paid', churn=1),\n",
       " Row(userId='109', firstname='Casey', ts=1540840370000, page='NextSong', level='paid', churn=1),\n",
       " Row(userId='109', firstname='Casey', ts=1540840550000, page='NextSong', level='paid', churn=1),\n",
       " Row(userId='109', firstname='Casey', ts=1540840751000, page='NextSong', level='paid', churn=1),\n",
       " Row(userId='109', firstname='Casey', ts=1540840752000, page='Thumbs Up', level='paid', churn=1),\n",
       " Row(userId='109', firstname='Casey', ts=1540840942000, page='NextSong', level='paid', churn=1),\n",
       " Row(userId='109', firstname='Casey', ts=1540840963000, page='Downgrade', level='paid', churn=1),\n",
       " Row(userId='109', firstname='Casey', ts=1540841180000, page='NextSong', level='paid', churn=1),\n",
       " Row(userId='109', firstname='Casey', ts=1540841452000, page='NextSong', level='paid', churn=1),\n",
       " Row(userId='109', firstname='Casey', ts=1540841661000, page='NextSong', level='paid', churn=1),\n",
       " Row(userId='109', firstname='Casey', ts=1540841943000, page='NextSong', level='paid', churn=1),\n",
       " Row(userId='109', firstname='Casey', ts=1540842161000, page='NextSong', level='paid', churn=1),\n",
       " Row(userId='109', firstname='Casey', ts=1540842162000, page='Thumbs Up', level='paid', churn=1),\n",
       " Row(userId='109', firstname='Casey', ts=1540842398000, page='NextSong', level='paid', churn=1),\n",
       " Row(userId='109', firstname='Casey', ts=1540842611000, page='NextSong', level='paid', churn=1),\n",
       " Row(userId='109', firstname='Casey', ts=1540842623000, page='Downgrade', level='paid', churn=1),\n",
       " Row(userId='109', firstname='Casey', ts=1540842868000, page='NextSong', level='paid', churn=1),\n",
       " Row(userId='109', firstname='Casey', ts=1540843083000, page='NextSong', level='paid', churn=1),\n",
       " Row(userId='109', firstname='Casey', ts=1540843378000, page='NextSong', level='paid', churn=1),\n",
       " Row(userId='109', firstname='Casey', ts=1540843635000, page='NextSong', level='paid', churn=1),\n",
       " Row(userId='109', firstname='Casey', ts=1540843653000, page='Help', level='paid', churn=1),\n",
       " Row(userId='109', firstname='Casey', ts=1540843858000, page='NextSong', level='paid', churn=1),\n",
       " Row(userId='109', firstname='Casey', ts=1540844080000, page='NextSong', level='paid', churn=1),\n",
       " Row(userId='109', firstname='Casey', ts=1540844213000, page='NextSong', level='paid', churn=1),\n",
       " Row(userId='109', firstname='Casey', ts=1540844329000, page='NextSong', level='paid', churn=1),\n",
       " Row(userId='109', firstname='Casey', ts=1540844522000, page='NextSong', level='paid', churn=1),\n",
       " Row(userId='109', firstname='Casey', ts=1540844782000, page='NextSong', level='paid', churn=1),\n",
       " Row(userId='109', firstname='Casey', ts=1540844819000, page='Help', level='paid', churn=1),\n",
       " Row(userId='109', firstname='Casey', ts=1540845010000, page='NextSong', level='paid', churn=1),\n",
       " Row(userId='109', firstname='Casey', ts=1540845194000, page='NextSong', level='paid', churn=1),\n",
       " Row(userId='109', firstname='Casey', ts=1540845394000, page='NextSong', level='paid', churn=1),\n",
       " Row(userId='109', firstname='Casey', ts=1540845708000, page='NextSong', level='paid', churn=1),\n",
       " Row(userId='109', firstname='Casey', ts=1540846092000, page='NextSong', level='paid', churn=1),\n",
       " Row(userId='109', firstname='Casey', ts=1540846309000, page='NextSong', level='paid', churn=1),\n",
       " Row(userId='109', firstname='Casey', ts=1540846488000, page='NextSong', level='paid', churn=1),\n",
       " Row(userId='109', firstname='Casey', ts=1540846668000, page='NextSong', level='paid', churn=1),\n",
       " Row(userId='109', firstname='Casey', ts=1540846894000, page='NextSong', level='paid', churn=1),\n",
       " Row(userId='109', firstname='Casey', ts=1540847148000, page='NextSong', level='paid', churn=1),\n",
       " Row(userId='109', firstname='Casey', ts=1540847359000, page='NextSong', level='paid', churn=1),\n",
       " Row(userId='109', firstname='Casey', ts=1540847674000, page='NextSong', level='paid', churn=1),\n",
       " Row(userId='109', firstname='Casey', ts=1540848000000, page='NextSong', level='paid', churn=1),\n",
       " Row(userId='109', firstname='Casey', ts=1540848033000, page='NextSong', level='paid', churn=1),\n",
       " Row(userId='109', firstname='Casey', ts=1540848227000, page='NextSong', level='paid', churn=1),\n",
       " Row(userId='109', firstname='Casey', ts=1540848566000, page='NextSong', level='paid', churn=1),\n",
       " Row(userId='109', firstname='Casey', ts=1540848748000, page='NextSong', level='paid', churn=1),\n",
       " Row(userId='109', firstname='Casey', ts=1540849148000, page='NextSong', level='paid', churn=1),\n",
       " Row(userId='109', firstname='Casey', ts=1540849149000, page='Thumbs Up', level='paid', churn=1),\n",
       " Row(userId='109', firstname='Casey', ts=1540849411000, page='NextSong', level='paid', churn=1),\n",
       " Row(userId='109', firstname='Casey', ts=1540849665000, page='NextSong', level='paid', churn=1),\n",
       " Row(userId='109', firstname='Casey', ts=1540849934000, page='NextSong', level='paid', churn=1),\n",
       " Row(userId='109', firstname='Casey', ts=1540850124000, page='NextSong', level='paid', churn=1),\n",
       " Row(userId='109', firstname='Casey', ts=1540850415000, page='NextSong', level='paid', churn=1),\n",
       " Row(userId='109', firstname='Casey', ts=1540850763000, page='NextSong', level='paid', churn=1),\n",
       " Row(userId='109', firstname='Casey', ts=1540851097000, page='NextSong', level='paid', churn=1),\n",
       " Row(userId='109', firstname='Casey', ts=1540851098000, page='Thumbs Up', level='paid', churn=1),\n",
       " Row(userId='109', firstname='Casey', ts=1540851396000, page='NextSong', level='paid', churn=1),\n",
       " Row(userId='109', firstname='Casey', ts=1540851516000, page='NextSong', level='paid', churn=1),\n",
       " Row(userId='109', firstname='Casey', ts=1540851583000, page='Add to Playlist', level='paid', churn=1),\n",
       " Row(userId='109', firstname='Casey', ts=1540851790000, page='NextSong', level='paid', churn=1),\n",
       " Row(userId='109', firstname='Casey', ts=1540852011000, page='NextSong', level='paid', churn=1),\n",
       " Row(userId='109', firstname='Casey', ts=1540852236000, page='NextSong', level='paid', churn=1),\n",
       " Row(userId='109', firstname='Casey', ts=1540852309000, page='Settings', level='paid', churn=1),\n",
       " Row(userId='109', firstname='Casey', ts=1540852310000, page='Logout', level='paid', churn=1),\n",
       " Row(userId='109', firstname='Casey', ts=1540852313000, page='Home', level='paid', churn=1),\n",
       " Row(userId='109', firstname='Casey', ts=1540852428000, page='NextSong', level='paid', churn=1),\n",
       " Row(userId='109', firstname='Casey', ts=1540852714000, page='NextSong', level='paid', churn=1),\n",
       " Row(userId='109', firstname='Casey', ts=1540852980000, page='NextSong', level='paid', churn=1),\n",
       " Row(userId='109', firstname='Casey', ts=1540853131000, page='NextSong', level='paid', churn=1),\n",
       " Row(userId='109', firstname='Casey', ts=1540853343000, page='NextSong', level='paid', churn=1),\n",
       " Row(userId='109', firstname='Casey', ts=1540853543000, page='NextSong', level='paid', churn=1),\n",
       " Row(userId='109', firstname='Casey', ts=1540853744000, page='NextSong', level='paid', churn=1),\n",
       " Row(userId='109', firstname='Casey', ts=1540853934000, page='NextSong', level='paid', churn=1),\n",
       " Row(userId='109', firstname='Casey', ts=1540854179000, page='NextSong', level='paid', churn=1),\n",
       " Row(userId='109', firstname='Casey', ts=1540854391000, page='NextSong', level='paid', churn=1),\n",
       " Row(userId='109', firstname='Casey', ts=1540854711000, page='NextSong', level='paid', churn=1),\n",
       " Row(userId='109', firstname='Casey', ts=1540854999000, page='NextSong', level='paid', churn=1),\n",
       " Row(userId='109', firstname='Casey', ts=1540855165000, page='NextSong', level='paid', churn=1),\n",
       " Row(userId='109', firstname='Casey', ts=1540855348000, page='NextSong', level='paid', churn=1),\n",
       " Row(userId='109', firstname='Casey', ts=1540855349000, page='Thumbs Up', level='paid', churn=1),\n",
       " Row(userId='109', firstname='Casey', ts=1540855669000, page='NextSong', level='paid', churn=1),\n",
       " Row(userId='109', firstname='Casey', ts=1540855683000, page='Add to Playlist', level='paid', churn=1),\n",
       " Row(userId='109', firstname='Casey', ts=1541437925000, page='NextSong', level='paid', churn=1),\n",
       " Row(userId='109', firstname='Casey', ts=1541438169000, page='NextSong', level='paid', churn=1),\n",
       " Row(userId='109', firstname='Casey', ts=1541438405000, page='NextSong', level='paid', churn=1),\n",
       " Row(userId='109', firstname='Casey', ts=1541438672000, page='NextSong', level='paid', churn=1),\n",
       " Row(userId='109', firstname='Casey', ts=1541439288000, page='NextSong', level='paid', churn=1),\n",
       " Row(userId='109', firstname='Casey', ts=1541439771000, page='NextSong', level='paid', churn=1),\n",
       " Row(userId='109', firstname='Casey', ts=1541440038000, page='NextSong', level='paid', churn=1),\n",
       " Row(userId='109', firstname='Casey', ts=1541440318000, page='NextSong', level='paid', churn=1),\n",
       " Row(userId='109', firstname='Casey', ts=1541440479000, page='NextSong', level='paid', churn=1),\n",
       " Row(userId='109', firstname='Casey', ts=1541440738000, page='NextSong', level='paid', churn=1),\n",
       " Row(userId='109', firstname='Casey', ts=1541440838000, page='Help', level='paid', churn=1),\n",
       " Row(userId='109', firstname='Casey', ts=1541558906000, page='NextSong', level='paid', churn=1),\n",
       " Row(userId='109', firstname='Casey', ts=1541559278000, page='NextSong', level='paid', churn=1),\n",
       " Row(userId='109', firstname='Casey', ts=1541559543000, page='NextSong', level='paid', churn=1),\n",
       " Row(userId='109', firstname='Casey', ts=1541559762000, page='NextSong', level='paid', churn=1),\n",
       " Row(userId='109', firstname='Casey', ts=1541559896000, page='NextSong', level='paid', churn=1),\n",
       " Row(userId='109', firstname='Casey', ts=1541559897000, page='Logout', level='paid', churn=1),\n",
       " Row(userId='109', firstname='Casey', ts=1541559937000, page='Home', level='paid', churn=1),\n",
       " Row(userId='109', firstname='Casey', ts=1541560029000, page='NextSong', level='paid', churn=1),\n",
       " Row(userId='109', firstname='Casey', ts=1541560340000, page='NextSong', level='paid', churn=1),\n",
       " Row(userId='109', firstname='Casey', ts=1541560604000, page='NextSong', level='paid', churn=1),\n",
       " Row(userId='109', firstname='Casey', ts=1541560799000, page='NextSong', level='paid', churn=1),\n",
       " Row(userId='109', firstname='Casey', ts=1541561083000, page='NextSong', level='paid', churn=1),\n",
       " Row(userId='109', firstname='Casey', ts=1541561490000, page='NextSong', level='paid', churn=1),\n",
       " Row(userId='109', firstname='Casey', ts=1541561882000, page='NextSong', level='paid', churn=1),\n",
       " Row(userId='109', firstname='Casey', ts=1541562071000, page='NextSong', level='paid', churn=1),\n",
       " Row(userId='109', firstname='Casey', ts=1541562326000, page='NextSong', level='paid', churn=1),\n",
       " Row(userId='109', firstname='Casey', ts=1541562352000, page='Home', level='paid', churn=1),\n",
       " Row(userId='109', firstname='Casey', ts=1541562577000, page='NextSong', level='paid', churn=1),\n",
       " Row(userId='109', firstname='Casey', ts=1541562823000, page='NextSong', level='paid', churn=1),\n",
       " Row(userId='109', firstname='Casey', ts=1541563066000, page='NextSong', level='paid', churn=1),\n",
       " Row(userId='109', firstname='Casey', ts=1541563300000, page='NextSong', level='paid', churn=1),\n",
       " Row(userId='109', firstname='Casey', ts=1541563505000, page='NextSong', level='paid', churn=1),\n",
       " Row(userId='109', firstname='Casey', ts=1541563667000, page='NextSong', level='paid', churn=1),\n",
       " Row(userId='109', firstname='Casey', ts=1541563930000, page='NextSong', level='paid', churn=1),\n",
       " Row(userId='109', firstname='Casey', ts=1541564257000, page='NextSong', level='paid', churn=1),\n",
       " Row(userId='109', firstname='Casey', ts=1541564441000, page='NextSong', level='paid', churn=1),\n",
       " Row(userId='109', firstname='Casey', ts=1541564644000, page='NextSong', level='paid', churn=1),\n",
       " Row(userId='109', firstname='Casey', ts=1541564810000, page='NextSong', level='paid', churn=1),\n",
       " Row(userId='109', firstname='Casey', ts=1541565055000, page='NextSong', level='paid', churn=1),\n",
       " Row(userId='109', firstname='Casey', ts=1541565416000, page='NextSong', level='paid', churn=1),\n",
       " Row(userId='109', firstname='Casey', ts=1541565665000, page='NextSong', level='paid', churn=1),\n",
       " Row(userId='109', firstname='Casey', ts=1541565898000, page='NextSong', level='paid', churn=1),\n",
       " Row(userId='109', firstname='Casey', ts=1541566218000, page='NextSong', level='paid', churn=1),\n",
       " Row(userId='109', firstname='Casey', ts=1541566421000, page='NextSong', level='paid', churn=1),\n",
       " Row(userId='109', firstname='Casey', ts=1541566718000, page='NextSong', level='paid', churn=1),\n",
       " Row(userId='109', firstname='Casey', ts=1541567373000, page='NextSong', level='paid', churn=1),\n",
       " Row(userId='109', firstname='Casey', ts=1541567413000, page='Home', level='paid', churn=1),\n",
       " Row(userId='109', firstname='Casey', ts=1541567430000, page='Downgrade', level='paid', churn=1),\n",
       " Row(userId='109', firstname='Casey', ts=1541567636000, page='NextSong', level='paid', churn=1),\n",
       " Row(userId='109', firstname='Casey', ts=1541567877000, page='NextSong', level='paid', churn=1),\n",
       " Row(userId='109', firstname='Casey', ts=1541568212000, page='NextSong', level='paid', churn=1),\n",
       " Row(userId='109', firstname='Casey', ts=1541568412000, page='NextSong', level='paid', churn=1),\n",
       " Row(userId='109', firstname='Casey', ts=1541568606000, page='NextSong', level='paid', churn=1),\n",
       " Row(userId='109', firstname='Casey', ts=1541568883000, page='NextSong', level='paid', churn=1),\n",
       " Row(userId='109', firstname='Casey', ts=1541569105000, page='Home', level='paid', churn=1),\n",
       " Row(userId='109', firstname='Casey', ts=1541569106000, page='Add Friend', level='paid', churn=1),\n",
       " Row(userId='109', firstname='Casey', ts=1541569143000, page='NextSong', level='paid', churn=1),\n",
       " Row(userId='109', firstname='Casey', ts=1541569535000, page='NextSong', level='paid', churn=1),\n",
       " Row(userId='109', firstname='Casey', ts=1541569556000, page='Home', level='paid', churn=1),\n",
       " Row(userId='109', firstname='Casey', ts=1541569779000, page='NextSong', level='paid', churn=1),\n",
       " Row(userId='109', firstname='Casey', ts=1541570010000, page='NextSong', level='paid', churn=1),\n",
       " Row(userId='109', firstname='Casey', ts=1541570300000, page='NextSong', level='paid', churn=1),\n",
       " Row(userId='109', firstname='Casey', ts=1541570354000, page='Help', level='paid', churn=1),\n",
       " Row(userId='109', firstname='Casey', ts=1541570547000, page='NextSong', level='paid', churn=1),\n",
       " Row(userId='109', firstname='Casey', ts=1541570770000, page='NextSong', level='paid', churn=1),\n",
       " Row(userId='109', firstname='Casey', ts=1541571082000, page='NextSong', level='paid', churn=1),\n",
       " Row(userId='109', firstname='Casey', ts=1541571342000, page='NextSong', level='paid', churn=1),\n",
       " Row(userId='109', firstname='Casey', ts=1541571544000, page='NextSong', level='paid', churn=1),\n",
       " Row(userId='109', firstname='Casey', ts=1541571865000, page='NextSong', level='paid', churn=1),\n",
       " Row(userId='109', firstname='Casey', ts=1541572144000, page='NextSong', level='paid', churn=1),\n",
       " Row(userId='109', firstname='Casey', ts=1541572478000, page='NextSong', level='paid', churn=1),\n",
       " Row(userId='109', firstname='Casey', ts=1541572711000, page='NextSong', level='paid', churn=1),\n",
       " Row(userId='109', firstname='Casey', ts=1541572936000, page='NextSong', level='paid', churn=1),\n",
       " Row(userId='109', firstname='Casey', ts=1541573130000, page='NextSong', level='paid', churn=1),\n",
       " Row(userId='109', firstname='Casey', ts=1541573131000, page='Thumbs Down', level='paid', churn=1),\n",
       " Row(userId='109', firstname='Casey', ts=1541573338000, page='NextSong', level='paid', churn=1),\n",
       " Row(userId='109', firstname='Casey', ts=1541573607000, page='NextSong', level='paid', churn=1),\n",
       " Row(userId='109', firstname='Casey', ts=1541573845000, page='NextSong', level='paid', churn=1),\n",
       " Row(userId='109', firstname='Casey', ts=1541574100000, page='NextSong', level='paid', churn=1),\n",
       " Row(userId='109', firstname='Casey', ts=1541574350000, page='NextSong', level='paid', churn=1),\n",
       " Row(userId='109', firstname='Casey', ts=1541574567000, page='NextSong', level='paid', churn=1),\n",
       " Row(userId='109', firstname='Casey', ts=1541574927000, page='NextSong', level='paid', churn=1),\n",
       " Row(userId='109', firstname='Casey', ts=1541575159000, page='NextSong', level='paid', churn=1),\n",
       " Row(userId='109', firstname='Casey', ts=1541575377000, page='NextSong', level='paid', churn=1),\n",
       " Row(userId='109', firstname='Casey', ts=1541575597000, page='NextSong', level='paid', churn=1),\n",
       " Row(userId='109', firstname='Casey', ts=1541575989000, page='NextSong', level='paid', churn=1),\n",
       " Row(userId='109', firstname='Casey', ts=1541576228000, page='NextSong', level='paid', churn=1),\n",
       " Row(userId='109', firstname='Casey', ts=1541576453000, page='NextSong', level='paid', churn=1),\n",
       " Row(userId='109', firstname='Casey', ts=1541576653000, page='NextSong', level='paid', churn=1),\n",
       " Row(userId='109', firstname='Casey', ts=1541576890000, page='NextSong', level='paid', churn=1),\n",
       " Row(userId='109', firstname='Casey', ts=1541577133000, page='NextSong', level='paid', churn=1),\n",
       " Row(userId='109', firstname='Casey', ts=1541577134000, page='Thumbs Up', level='paid', churn=1),\n",
       " Row(userId='109', firstname='Casey', ts=1541577331000, page='NextSong', level='paid', churn=1),\n",
       " Row(userId='109', firstname='Casey', ts=1541577332000, page='Add Friend', level='paid', churn=1),\n",
       " Row(userId='109', firstname='Casey', ts=1541577333000, page='Add Friend', level='paid', churn=1),\n",
       " Row(userId='109', firstname='Casey', ts=1541577334000, page='Add Friend', level='paid', churn=1),\n",
       " Row(userId='109', firstname='Casey', ts=1541577584000, page='NextSong', level='paid', churn=1),\n",
       " Row(userId='109', firstname='Casey', ts=1541577732000, page='NextSong', level='paid', churn=1),\n",
       " Row(userId='109', firstname='Casey', ts=1541578051000, page='NextSong', level='paid', churn=1),\n",
       " Row(userId='109', firstname='Casey', ts=1541578052000, page='Logout', level='paid', churn=1),\n",
       " Row(userId='109', firstname='Casey', ts=1541578348000, page='Home', level='paid', churn=1),\n",
       " Row(userId='109', firstname='Casey', ts=1541578415000, page='NextSong', level='paid', churn=1),\n",
       " Row(userId='109', firstname='Casey', ts=1541578686000, page='NextSong', level='paid', churn=1),\n",
       " Row(userId='109', firstname='Casey', ts=1541578726000, page='Settings', level='paid', churn=1),\n",
       " Row(userId='109', firstname='Casey', ts=1541578939000, page='NextSong', level='paid', churn=1),\n",
       " Row(userId='109', firstname='Casey', ts=1541579224000, page='NextSong', level='paid', churn=1),\n",
       " Row(userId='109', firstname='Casey', ts=1541579475000, page='NextSong', level='paid', churn=1),\n",
       " Row(userId='109', firstname='Casey', ts=1541579527000, page='NextSong', level='paid', churn=1),\n",
       " Row(userId='109', firstname='Casey', ts=1541579810000, page='NextSong', level='paid', churn=1),\n",
       " Row(userId='109', firstname='Casey', ts=1541579996000, page='NextSong', level='paid', churn=1),\n",
       " Row(userId='109', firstname='Casey', ts=1541580330000, page='NextSong', level='paid', churn=1),\n",
       " Row(userId='109', firstname='Casey', ts=1541580512000, page='NextSong', level='paid', churn=1),\n",
       " Row(userId='109', firstname='Casey', ts=1541580685000, page='NextSong', level='paid', churn=1),\n",
       " Row(userId='109', firstname='Casey', ts=1541581103000, page='NextSong', level='paid', churn=1),\n",
       " Row(userId='109', firstname='Casey', ts=1541581332000, page='NextSong', level='paid', churn=1),\n",
       " Row(userId='109', firstname='Casey', ts=1541581571000, page='NextSong', level='paid', churn=1),\n",
       " Row(userId='109', firstname='Casey', ts=1541581572000, page='Thumbs Up', level='paid', churn=1),\n",
       " Row(userId='109', firstname='Casey', ts=1541581802000, page='NextSong', level='paid', churn=1),\n",
       " Row(userId='109', firstname='Casey', ts=1541581984000, page='NextSong', level='paid', churn=1),\n",
       " Row(userId='109', firstname='Casey', ts=1541582239000, page='NextSong', level='paid', churn=1),\n",
       " Row(userId='109', firstname='Casey', ts=1541582472000, page='NextSong', level='paid', churn=1),\n",
       " Row(userId='109', firstname='Casey', ts=1541582473000, page='Add Friend', level='paid', churn=1),\n",
       " Row(userId='109', firstname='Casey', ts=1541582680000, page='NextSong', level='paid', churn=1),\n",
       " Row(userId='109', firstname='Casey', ts=1541582925000, page='NextSong', level='paid', churn=1),\n",
       " Row(userId='109', firstname='Casey', ts=1541583213000, page='NextSong', level='paid', churn=1),\n",
       " Row(userId='109', firstname='Casey', ts=1541583214000, page='Thumbs Up', level='paid', churn=1),\n",
       " Row(userId='109', firstname='Casey', ts=1541583424000, page='NextSong', level='paid', churn=1),\n",
       " Row(userId='109', firstname='Casey', ts=1541583696000, page='NextSong', level='paid', churn=1),\n",
       " Row(userId='109', firstname='Casey', ts=1541583845000, page='Add to Playlist', level='paid', churn=1),\n",
       " Row(userId='109', firstname='Casey', ts=1541583904000, page='NextSong', level='paid', churn=1),\n",
       " Row(userId='109', firstname='Casey', ts=1541584132000, page='NextSong', level='paid', churn=1),\n",
       " Row(userId='109', firstname='Casey', ts=1541584378000, page='NextSong', level='paid', churn=1),\n",
       " Row(userId='109', firstname='Casey', ts=1541584610000, page='NextSong', level='paid', churn=1),\n",
       " Row(userId='109', firstname='Casey', ts=1541584907000, page='NextSong', level='paid', churn=1),\n",
       " Row(userId='109', firstname='Casey', ts=1541585200000, page='NextSong', level='paid', churn=1),\n",
       " Row(userId='109', firstname='Casey', ts=1541585429000, page='NextSong', level='paid', churn=1),\n",
       " Row(userId='109', firstname='Casey', ts=1541585803000, page='NextSong', level='paid', churn=1),\n",
       " Row(userId='109', firstname='Casey', ts=1541586214000, page='NextSong', level='paid', churn=1),\n",
       " Row(userId='109', firstname='Casey', ts=1541586468000, page='NextSong', level='paid', churn=1),\n",
       " Row(userId='109', firstname='Casey', ts=1541586470000, page='Help', level='paid', churn=1),\n",
       " Row(userId='109', firstname='Casey', ts=1541586702000, page='NextSong', level='paid', churn=1),\n",
       " Row(userId='109', firstname='Casey', ts=1541586963000, page='NextSong', level='paid', churn=1),\n",
       " Row(userId='109', firstname='Casey', ts=1541587131000, page='NextSong', level='paid', churn=1),\n",
       " Row(userId='109', firstname='Casey', ts=1541587421000, page='NextSong', level='paid', churn=1),\n",
       " Row(userId='109', firstname='Casey', ts=1541587613000, page='NextSong', level='paid', churn=1),\n",
       " Row(userId='109', firstname='Casey', ts=1541587902000, page='NextSong', level='paid', churn=1),\n",
       " Row(userId='109', firstname='Casey', ts=1541588200000, page='NextSong', level='paid', churn=1),\n",
       " Row(userId='109', firstname='Casey', ts=1541588350000, page='NextSong', level='paid', churn=1),\n",
       " Row(userId='109', firstname='Casey', ts=1541588515000, page='NextSong', level='paid', churn=1),\n",
       " Row(userId='109', firstname='Casey', ts=1541588748000, page='NextSong', level='paid', churn=1),\n",
       " Row(userId='109', firstname='Casey', ts=1541589041000, page='NextSong', level='paid', churn=1),\n",
       " Row(userId='109', firstname='Casey', ts=1541589228000, page='NextSong', level='paid', churn=1),\n",
       " Row(userId='109', firstname='Casey', ts=1541589229000, page='Logout', level='paid', churn=1),\n",
       " Row(userId='109', firstname='Casey', ts=1541589287000, page='Home', level='paid', churn=1),\n",
       " Row(userId='109', firstname='Casey', ts=1541589659000, page='NextSong', level='paid', churn=1),\n",
       " Row(userId='109', firstname='Casey', ts=1541589660000, page='Thumbs Up', level='paid', churn=1),\n",
       " Row(userId='109', firstname='Casey', ts=1541589922000, page='NextSong', level='paid', churn=1),\n",
       " Row(userId='109', firstname='Casey', ts=1541590227000, page='NextSong', level='paid', churn=1),\n",
       " Row(userId='109', firstname='Casey', ts=1541590479000, page='NextSong', level='paid', churn=1),\n",
       " Row(userId='109', firstname='Casey', ts=1541590676000, page='NextSong', level='paid', churn=1),\n",
       " Row(userId='109', firstname='Casey', ts=1541590754000, page='NextSong', level='paid', churn=1),\n",
       " Row(userId='109', firstname='Casey', ts=1541591044000, page='NextSong', level='paid', churn=1),\n",
       " Row(userId='109', firstname='Casey', ts=1541591269000, page='NextSong', level='paid', churn=1),\n",
       " Row(userId='109', firstname='Casey', ts=1541591431000, page='NextSong', level='paid', churn=1),\n",
       " Row(userId='109', firstname='Casey', ts=1541591720000, page='NextSong', level='paid', churn=1),\n",
       " Row(userId='109', firstname='Casey', ts=1541591921000, page='NextSong', level='paid', churn=1),\n",
       " Row(userId='109', firstname='Casey', ts=1541592198000, page='NextSong', level='paid', churn=1),\n",
       " Row(userId='109', firstname='Casey', ts=1541592215000, page='Add to Playlist', level='paid', churn=1),\n",
       " Row(userId='109', firstname='Casey', ts=1541592467000, page='NextSong', level='paid', churn=1),\n",
       " Row(userId='109', firstname='Casey', ts=1541592649000, page='NextSong', level='paid', churn=1),\n",
       " Row(userId='109', firstname='Casey', ts=1541592877000, page='NextSong', level='paid', churn=1),\n",
       " Row(userId='109', firstname='Casey', ts=1541593057000, page='NextSong', level='paid', churn=1),\n",
       " Row(userId='109', firstname='Casey', ts=1541593246000, page='NextSong', level='paid', churn=1),\n",
       " Row(userId='109', firstname='Casey', ts=1541593451000, page='NextSong', level='paid', churn=1),\n",
       " Row(userId='109', firstname='Casey', ts=1541593666000, page='NextSong', level='paid', churn=1),\n",
       " Row(userId='109', firstname='Casey', ts=1541593993000, page='NextSong', level='paid', churn=1),\n",
       " Row(userId='109', firstname='Casey', ts=1541594219000, page='NextSong', level='paid', churn=1),\n",
       " Row(userId='109', firstname='Casey', ts=1541594508000, page='NextSong', level='paid', churn=1),\n",
       " Row(userId='109', firstname='Casey', ts=1541594544000, page='Home', level='paid', churn=1),\n",
       " Row(userId='109', firstname='Casey', ts=1541594755000, page='NextSong', level='paid', churn=1),\n",
       " Row(userId='109', firstname='Casey', ts=1541594972000, page='NextSong', level='paid', churn=1),\n",
       " Row(userId='109', firstname='Casey', ts=1541595070000, page='NextSong', level='paid', churn=1),\n",
       " Row(userId='109', firstname='Casey', ts=1541595232000, page='NextSong', level='paid', churn=1),\n",
       " Row(userId='109', firstname='Casey', ts=1541595488000, page='NextSong', level='paid', churn=1),\n",
       " Row(userId='109', firstname='Casey', ts=1541595691000, page='NextSong', level='paid', churn=1),\n",
       " Row(userId='109', firstname='Casey', ts=1541596521000, page='NextSong', level='paid', churn=1),\n",
       " Row(userId='109', firstname='Casey', ts=1541596710000, page='NextSong', level='paid', churn=1),\n",
       " Row(userId='109', firstname='Casey', ts=1541596800000, page='NextSong', level='paid', churn=1),\n",
       " Row(userId='109', firstname='Casey', ts=1541597075000, page='NextSong', level='paid', churn=1),\n",
       " Row(userId='109', firstname='Casey', ts=1541597277000, page='NextSong', level='paid', churn=1),\n",
       " Row(userId='109', firstname='Casey', ts=1541597443000, page='NextSong', level='paid', churn=1),\n",
       " Row(userId='109', firstname='Casey', ts=1541597727000, page='NextSong', level='paid', churn=1),\n",
       " Row(userId='109', firstname='Casey', ts=1541597970000, page='NextSong', level='paid', churn=1),\n",
       " Row(userId='109', firstname='Casey', ts=1541598439000, page='NextSong', level='paid', churn=1),\n",
       " Row(userId='109', firstname='Casey', ts=1541598637000, page='NextSong', level='paid', churn=1),\n",
       " Row(userId='109', firstname='Casey', ts=1541598864000, page='NextSong', level='paid', churn=1),\n",
       " Row(userId='109', firstname='Casey', ts=1541598920000, page='Add to Playlist', level='paid', churn=1),\n",
       " Row(userId='109', firstname='Casey', ts=1541599124000, page='NextSong', level='paid', churn=1),\n",
       " Row(userId='109', firstname='Casey', ts=1541599125000, page='Thumbs Up', level='paid', churn=1),\n",
       " Row(userId='109', firstname='Casey', ts=1541599340000, page='NextSong', level='paid', churn=1),\n",
       " Row(userId='109', firstname='Casey', ts=1541599444000, page='NextSong', level='paid', churn=1),\n",
       " Row(userId='109', firstname='Casey', ts=1541599684000, page='NextSong', level='paid', churn=1),\n",
       " Row(userId='109', firstname='Casey', ts=1541599923000, page='NextSong', level='paid', churn=1),\n",
       " Row(userId='109', firstname='Casey', ts=1541600127000, page='NextSong', level='paid', churn=1),\n",
       " Row(userId='109', firstname='Casey', ts=1541600422000, page='NextSong', level='paid', churn=1),\n",
       " Row(userId='109', firstname='Casey', ts=1541600423000, page='Thumbs Up', level='paid', churn=1),\n",
       " Row(userId='109', firstname='Casey', ts=1541600658000, page='NextSong', level='paid', churn=1),\n",
       " Row(userId='109', firstname='Casey', ts=1541601081000, page='NextSong', level='paid', churn=1),\n",
       " Row(userId='109', firstname='Casey', ts=1541601108000, page='Add to Playlist', level='paid', churn=1),\n",
       " Row(userId='109', firstname='Casey', ts=1541601313000, page='NextSong', level='paid', churn=1),\n",
       " Row(userId='109', firstname='Casey', ts=1541601562000, page='NextSong', level='paid', churn=1),\n",
       " Row(userId='109', firstname='Casey', ts=1541601746000, page='NextSong', level='paid', churn=1),\n",
       " Row(userId='109', firstname='Casey', ts=1541601941000, page='NextSong', level='paid', churn=1),\n",
       " Row(userId='109', firstname='Casey', ts=1541602036000, page='NextSong', level='paid', churn=1),\n",
       " Row(userId='109', firstname='Casey', ts=1541602255000, page='NextSong', level='paid', churn=1),\n",
       " Row(userId='109', firstname='Casey', ts=1541602486000, page='NextSong', level='paid', churn=1),\n",
       " Row(userId='109', firstname='Casey', ts=1541602628000, page='Help', level='paid', churn=1),\n",
       " Row(userId='109', firstname='Casey', ts=1541602687000, page='NextSong', level='paid', churn=1),\n",
       " Row(userId='109', firstname='Casey', ts=1541602926000, page='NextSong', level='paid', churn=1),\n",
       " Row(userId='109', firstname='Casey', ts=1541603181000, page='NextSong', level='paid', churn=1),\n",
       " Row(userId='109', firstname='Casey', ts=1541603395000, page='NextSong', level='paid', churn=1),\n",
       " Row(userId='109', firstname='Casey', ts=1541603698000, page='NextSong', level='paid', churn=1),\n",
       " Row(userId='109', firstname='Casey', ts=1541603862000, page='NextSong', level='paid', churn=1),\n",
       " Row(userId='109', firstname='Casey', ts=1541604044000, page='NextSong', level='paid', churn=1),\n",
       " Row(userId='109', firstname='Casey', ts=1541604045000, page='Thumbs Up', level='paid', churn=1),\n",
       " Row(userId='109', firstname='Casey', ts=1541604337000, page='NextSong', level='paid', churn=1),\n",
       " Row(userId='109', firstname='Casey', ts=1541604580000, page='NextSong', level='paid', churn=1),\n",
       " Row(userId='109', firstname='Casey', ts=1541604785000, page='NextSong', level='paid', churn=1),\n",
       " Row(userId='109', firstname='Casey', ts=1541604968000, page='NextSong', level='paid', churn=1),\n",
       " Row(userId='109', firstname='Casey', ts=1541605204000, page='NextSong', level='paid', churn=1),\n",
       " Row(userId='109', firstname='Casey', ts=1541605387000, page='NextSong', level='paid', churn=1),\n",
       " Row(userId='109', firstname='Casey', ts=1541605702000, page='NextSong', level='paid', churn=1),\n",
       " Row(userId='109', firstname='Casey', ts=1541605971000, page='NextSong', level='paid', churn=1),\n",
       " Row(userId='109', firstname='Casey', ts=1541605972000, page='Thumbs Up', level='paid', churn=1),\n",
       " Row(userId='109', firstname='Casey', ts=1541606046000, page='NextSong', level='paid', churn=1),\n",
       " Row(userId='109', firstname='Casey', ts=1541606355000, page='NextSong', level='paid', churn=1),\n",
       " Row(userId='109', firstname='Casey', ts=1541606789000, page='NextSong', level='paid', churn=1),\n",
       " Row(userId='109', firstname='Casey', ts=1541607298000, page='NextSong', level='paid', churn=1),\n",
       " Row(userId='109', firstname='Casey', ts=1541607638000, page='NextSong', level='paid', churn=1),\n",
       " Row(userId='109', firstname='Casey', ts=1541607909000, page='NextSong', level='paid', churn=1),\n",
       " Row(userId='109', firstname='Casey', ts=1541608161000, page='NextSong', level='paid', churn=1),\n",
       " Row(userId='109', firstname='Casey', ts=1541608459000, page='NextSong', level='paid', churn=1),\n",
       " Row(userId='109', firstname='Casey', ts=1541608680000, page='NextSong', level='paid', churn=1),\n",
       " Row(userId='109', firstname='Casey', ts=1541608870000, page='NextSong', level='paid', churn=1),\n",
       " Row(userId='109', firstname='Casey', ts=1541608889000, page='Add to Playlist', level='paid', churn=1),\n",
       " Row(userId='109', firstname='Casey', ts=1541609081000, page='NextSong', level='paid', churn=1),\n",
       " Row(userId='109', firstname='Casey', ts=1541609293000, page='Downgrade', level='paid', churn=1),\n",
       " Row(userId='109', firstname='Casey', ts=1541609294000, page='Logout', level='paid', churn=1),\n",
       " Row(userId='109', firstname='Casey', ts=1541609684000, page='Home', level='paid', churn=1),\n",
       " Row(userId='109', firstname='Casey', ts=1541609705000, page='NextSong', level='paid', churn=1),\n",
       " Row(userId='109', firstname='Casey', ts=1541609975000, page='NextSong', level='paid', churn=1),\n",
       " Row(userId='109', firstname='Casey', ts=1541610226000, page='NextSong', level='paid', churn=1),\n",
       " Row(userId='109', firstname='Casey', ts=1541610465000, page='NextSong', level='paid', churn=1),\n",
       " Row(userId='109', firstname='Casey', ts=1541610613000, page='NextSong', level='paid', churn=1),\n",
       " Row(userId='109', firstname='Casey', ts=1541610884000, page='NextSong', level='paid', churn=1),\n",
       " Row(userId='109', firstname='Casey', ts=1541611091000, page='NextSong', level='paid', churn=1),\n",
       " Row(userId='109', firstname='Casey', ts=1541611296000, page='NextSong', level='paid', churn=1),\n",
       " Row(userId='109', firstname='Casey', ts=1541611527000, page='NextSong', level='paid', churn=1),\n",
       " Row(userId='109', firstname='Casey', ts=1541611765000, page='NextSong', level='paid', churn=1),\n",
       " Row(userId='109', firstname='Casey', ts=1541611843000, page='Add to Playlist', level='paid', churn=1),\n",
       " Row(userId='109', firstname='Casey', ts=1541612005000, page='NextSong', level='paid', churn=1),\n",
       " Row(userId='109', firstname='Casey', ts=1541612178000, page='NextSong', level='paid', churn=1),\n",
       " Row(userId='109', firstname='Casey', ts=1541612430000, page='NextSong', level='paid', churn=1),\n",
       " Row(userId='109', firstname='Casey', ts=1541612615000, page='NextSong', level='paid', churn=1),\n",
       " Row(userId='109', firstname='Casey', ts=1541612837000, page='NextSong', level='paid', churn=1),\n",
       " Row(userId='109', firstname='Casey', ts=1541613049000, page='NextSong', level='paid', churn=1),\n",
       " Row(userId='109', firstname='Casey', ts=1541613229000, page='NextSong', level='paid', churn=1),\n",
       " Row(userId='109', firstname='Casey', ts=1541613230000, page='Add Friend', level='paid', churn=1),\n",
       " Row(userId='109', firstname='Casey', ts=1541613231000, page='Add Friend', level='paid', churn=1),\n",
       " Row(userId='109', firstname='Casey', ts=1541613393000, page='NextSong', level='paid', churn=1),\n",
       " Row(userId='109', firstname='Casey', ts=1541613485000, page='Help', level='paid', churn=1),\n",
       " Row(userId='109', firstname='Casey', ts=1541613700000, page='NextSong', level='paid', churn=1),\n",
       " Row(userId='109', firstname='Casey', ts=1541614109000, page='NextSong', level='paid', churn=1),\n",
       " Row(userId='109', firstname='Casey', ts=1541614309000, page='NextSong', level='paid', churn=1),\n",
       " Row(userId='109', firstname='Casey', ts=1541614512000, page='NextSong', level='paid', churn=1),\n",
       " Row(userId='109', firstname='Casey', ts=1541614743000, page='NextSong', level='paid', churn=1),\n",
       " Row(userId='109', firstname='Casey', ts=1541614744000, page='Thumbs Up', level='paid', churn=1),\n",
       " Row(userId='109', firstname='Casey', ts=1541615126000, page='NextSong', level='paid', churn=1),\n",
       " Row(userId='109', firstname='Casey', ts=1541615374000, page='NextSong', level='paid', churn=1),\n",
       " Row(userId='109', firstname='Casey', ts=1541615698000, page='NextSong', level='paid', churn=1),\n",
       " Row(userId='109', firstname='Casey', ts=1541615930000, page='NextSong', level='paid', churn=1),\n",
       " Row(userId='109', firstname='Casey', ts=1541616068000, page='NextSong', level='paid', churn=1),\n",
       " Row(userId='109', firstname='Casey', ts=1541616566000, page='NextSong', level='paid', churn=1),\n",
       " Row(userId='109', firstname='Casey', ts=1541616698000, page='NextSong', level='paid', churn=1),\n",
       " Row(userId='109', firstname='Casey', ts=1541616952000, page='NextSong', level='paid', churn=1),\n",
       " Row(userId='109', firstname='Casey', ts=1541616952000, page='About', level='paid', churn=1),\n",
       " Row(userId='109', firstname='Casey', ts=1542044484000, page='NextSong', level='paid', churn=1),\n",
       " Row(userId='109', firstname='Casey', ts=1542044487000, page='Downgrade', level='paid', churn=1),\n",
       " Row(userId='109', firstname='Casey', ts=1542044488000, page='Submit Downgrade', level='paid', churn=1),\n",
       " Row(userId='109', firstname='Casey', ts=1542044505000, page='Home', level='free', churn=0),\n",
       " Row(userId='109', firstname='Casey', ts=1542044736000, page='NextSong', level='free', churn=0),\n",
       " Row(userId='109', firstname='Casey', ts=1542044889000, page='Roll Advert', level='free', churn=0),\n",
       " Row(userId='109', firstname='Casey', ts=1542044940000, page='NextSong', level='free', churn=0),\n",
       " Row(userId='109', firstname='Casey', ts=1542045135000, page='NextSong', level='free', churn=0),\n",
       " Row(userId='109', firstname='Casey', ts=1542045230000, page='NextSong', level='free', churn=0),\n",
       " Row(userId='109', firstname='Casey', ts=1542045415000, page='NextSong', level='free', churn=0),\n",
       " Row(userId='109', firstname='Casey', ts=1542045499000, page='NextSong', level='free', churn=0),\n",
       " Row(userId='109', firstname='Casey', ts=1542045704000, page='NextSong', level='free', churn=0),\n",
       " Row(userId='109', firstname='Casey', ts=1542045934000, page='NextSong', level='free', churn=0),\n",
       " Row(userId='109', firstname='Casey', ts=1542046256000, page='NextSong', level='free', churn=0),\n",
       " Row(userId='109', firstname='Casey', ts=1542046593000, page='NextSong', level='free', churn=0),\n",
       " Row(userId='109', firstname='Casey', ts=1542046594000, page='Logout', level='free', churn=0),\n",
       " Row(userId='109', firstname='Casey', ts=1542046682000, page='Home', level='free', churn=0),\n",
       " Row(userId='109', firstname='Casey', ts=1542046777000, page='NextSong', level='free', churn=0),\n",
       " Row(userId='109', firstname='Casey', ts=1542047013000, page='NextSong', level='free', churn=0),\n",
       " Row(userId='109', firstname='Casey', ts=1542047262000, page='NextSong', level='free', churn=0),\n",
       " Row(userId='109', firstname='Casey', ts=1542047485000, page='NextSong', level='free', churn=0),\n",
       " Row(userId='109', firstname='Casey', ts=1542047999000, page='NextSong', level='free', churn=0),\n",
       " Row(userId='109', firstname='Casey', ts=1542048347000, page='NextSong', level='free', churn=0),\n",
       " Row(userId='109', firstname='Casey', ts=1542048605000, page='NextSong', level='free', churn=0),\n",
       " Row(userId='109', firstname='Casey', ts=1542048820000, page='NextSong', level='free', churn=0),\n",
       " Row(userId='109', firstname='Casey', ts=1542048821000, page='Thumbs Up', level='free', churn=0),\n",
       " Row(userId='109', firstname='Casey', ts=1542049079000, page='NextSong', level='free', churn=0),\n",
       " Row(userId='109', firstname='Casey', ts=1542049329000, page='NextSong', level='free', churn=0),\n",
       " Row(userId='109', firstname='Casey', ts=1542049538000, page='NextSong', level='free', churn=0),\n",
       " Row(userId='109', firstname='Casey', ts=1542049825000, page='NextSong', level='free', churn=0),\n",
       " Row(userId='109', firstname='Casey', ts=1542050116000, page='NextSong', level='free', churn=0),\n",
       " Row(userId='109', firstname='Casey', ts=1542050385000, page='NextSong', level='free', churn=0),\n",
       " Row(userId='109', firstname='Casey', ts=1542305064000, page='NextSong', level='free', churn=0),\n",
       " Row(userId='109', firstname='Casey', ts=1542305349000, page='NextSong', level='free', churn=0),\n",
       " Row(userId='109', firstname='Casey', ts=1542305742000, page='NextSong', level='free', churn=0),\n",
       " Row(userId='109', firstname='Casey', ts=1542305911000, page='NextSong', level='free', churn=0),\n",
       " Row(userId='109', firstname='Casey', ts=1542306083000, page='NextSong', level='free', churn=0),\n",
       " Row(userId='109', firstname='Casey', ts=1542306315000, page='NextSong', level='free', churn=0),\n",
       " Row(userId='109', firstname='Casey', ts=1542306558000, page='NextSong', level='free', churn=0),\n",
       " Row(userId='109', firstname='Casey', ts=1542306807000, page='NextSong', level='free', churn=0),\n",
       " Row(userId='109', firstname='Casey', ts=1542307038000, page='NextSong', level='free', churn=0),\n",
       " Row(userId='109', firstname='Casey', ts=1542307187000, page='NextSong', level='free', churn=0),\n",
       " Row(userId='109', firstname='Casey', ts=1542307395000, page='NextSong', level='free', churn=0),\n",
       " Row(userId='109', firstname='Casey', ts=1542307403000, page='Roll Advert', level='free', churn=0),\n",
       " Row(userId='109', firstname='Casey', ts=1542307586000, page='NextSong', level='free', churn=0),\n",
       " Row(userId='109', firstname='Casey', ts=1542307887000, page='NextSong', level='free', churn=0),\n",
       " Row(userId='109', firstname='Casey', ts=1542308211000, page='NextSong', level='free', churn=0),\n",
       " Row(userId='109', firstname='Casey', ts=1542308474000, page='NextSong', level='free', churn=0),\n",
       " Row(userId='109', firstname='Casey', ts=1542309756000, page='NextSong', level='free', churn=0),\n",
       " Row(userId='109', firstname='Casey', ts=1542309958000, page='NextSong', level='free', churn=0),\n",
       " Row(userId='109', firstname='Casey', ts=1542370342000, page='Home', level='free', churn=0),\n",
       " Row(userId='109', firstname='Casey', ts=1542370381000, page='NextSong', level='free', churn=0),\n",
       " Row(userId='109', firstname='Casey', ts=1542370650000, page='NextSong', level='free', churn=0),\n",
       " Row(userId='109', firstname='Casey', ts=1542370918000, page='NextSong', level='free', churn=0),\n",
       " Row(userId='109', firstname='Casey', ts=1542371162000, page='NextSong', level='free', churn=0),\n",
       " Row(userId='109', firstname='Casey', ts=1542371198000, page='Roll Advert', level='free', churn=0),\n",
       " Row(userId='109', firstname='Casey', ts=1542371343000, page='NextSong', level='free', churn=0),\n",
       " Row(userId='109', firstname='Casey', ts=1542371387000, page='Home', level='free', churn=0),\n",
       " Row(userId='109', firstname='Casey', ts=1542371584000, page='NextSong', level='free', churn=0)]"
      ]
     },
     "execution_count": 41,
     "metadata": {},
     "output_type": "execute_result"
    }
   ],
   "source": [
    "flag_downgrade_event = udf(lambda x: 1 if x == \"Submit Downgrade\" else 0, IntegerType())\n",
    "\n",
    "user_log = user_log.withColumn(\"downgraded\", flag_downgrade_event(\"page\"))\n",
    "\n",
    "# now we have for each timestamp sorted user a delta peak where the downgrade took place\n",
    "\n",
    "from pyspark.sql import Window\n",
    "\n",
    "windowval = Window.partitionBy(\"userId\").orderBy(desc(\"ts\")).rangeBetween(Window.unboundedPreceding, 0)\n",
    "\n",
    "user_log = user_log.withColumn(\"churn\", Fsum(\"downgraded\").over(windowval))\n",
    "\n",
    "## in the mini dataset, this user is known to churn, thus this is a test case.\n",
    "user_log.select([\"userId\", \"firstname\", \"ts\", \"page\", \"level\", \"churn\"]).where(user_log.userId == \"109\").sort(\"ts\").collect()\n"
   ]
  },
  {
   "cell_type": "markdown",
   "metadata": {},
   "source": [
    "### As time plays a crucial role in this interaction, some derivations"
   ]
  },
  {
   "cell_type": "code",
   "execution_count": 47,
   "metadata": {},
   "outputs": [
    {
     "data": {
      "text/plain": [
       "Row(artist=None, auth='Logged In', firstName='Darianna', gender='F', itemInSession=34, lastName='Carpenter', length=None, level='free', location='Bridgeport-Stamford-Norwalk, CT', method='PUT', page='Logout', registration=1538016340000, sessionId=187, song=None, status=307, ts=1542823952000, userAgent='\"Mozilla/5.0 (iPhone; CPU iPhone OS 7_1_2 like Mac OS X) AppleWebKit/537.51.2 (KHTML, like Gecko) Version/7.0 Mobile/11D257 Safari/9537.53\"', userId='100010', downgraded=0, churn=0, time='2018-11-21 18:12:32', registration_time='2018-09-27 02:45:40', date=datetime.date(2018, 11, 21), month=11)"
      ]
     },
     "execution_count": 47,
     "metadata": {},
     "output_type": "execute_result"
    }
   ],
   "source": [
    "get_time = udf(lambda x: pd.Timestamp(x / 1000.0,unit='s').strftime(\"%Y-%m-%d %H:%M:%S\"))\n",
    "user_log = user_log.withColumn(\"time\", get_time(user_log.ts)).withColumn('registration_time',get_time(user_log.registration))\n",
    "user_log = user_log.withColumn('date', from_unixtime(col('ts')/1000).cast(DateType()))\n",
    "user_log = user_log.withColumn('month', month(\"time\").alias('month'))\n",
    "user_log.head()"
   ]
  },
  {
   "cell_type": "markdown",
   "metadata": {},
   "source": [
    "### now let's build a collection of Features \n",
    "\n",
    "existing categorical columns (to be recoded later)... and check their relation to the churning behaviour:"
   ]
  },
  {
   "cell_type": "code",
   "execution_count": 56,
   "metadata": {},
   "outputs": [],
   "source": [
    "\n",
    "pdg = user_log.select([\"userId\", 'gender', \"churn\"]).toPandas()\n",
    "pdl = user_log.select([\"userId\", 'level', \"churn\"]).toPandas()\n",
    "pdd = user_log.select([\"userId\", 'date', \"churn\"]).toPandas()"
   ]
  },
  {
   "cell_type": "code",
   "execution_count": 57,
   "metadata": {},
   "outputs": [
    {
     "data": {
      "image/png": "[encoded data removed]",
      "text/plain": [
       "<matplotlib.figure.Figure at 0x7fafe10686d8>"
      ]
     },
     "metadata": {
      "needs_background": "light"
     },
     "output_type": "display_data"
    }
   ],
   "source": [
    "import seaborn as sns\n",
    "sns.countplot(x='level', hue=\"churn\", data=pdl);\n"
   ]
  },
  {
   "cell_type": "code",
   "execution_count": 58,
   "metadata": {
    "scrolled": true
   },
   "outputs": [
    {
     "data": {
      "image/png": "[encoded data removed]",
      "text/plain": [
       "<matplotlib.figure.Figure at 0x7fafdd734390>"
      ]
     },
     "metadata": {
      "needs_background": "light"
     },
     "output_type": "display_data"
    }
   ],
   "source": [
    "\n",
    "sns.countplot(x='gender', hue=\"churn\", data=pdg);\n"
   ]
  },
  {
   "cell_type": "code",
   "execution_count": 59,
   "metadata": {},
   "outputs": [
    {
     "data": {
      "image/png": "[encoded data removed]",
      "text/plain": [
       "<matplotlib.figure.Figure at 0x7fafd90c8b00>"
      ]
     },
     "metadata": {
      "needs_background": "light"
     },
     "output_type": "display_data"
    }
   ],
   "source": [
    "\n",
    "\n",
    "sns.countplot(x='date', hue=\"churn\", data=pdd);"
   ]
  },
  {
   "cell_type": "code",
   "execution_count": 61,
   "metadata": {},
   "outputs": [
    {
     "name": "stdout",
     "output_type": "stream",
     "text": [
      "+-------+-------------------+\n",
      "|summary|               time|\n",
      "+-------+-------------------+\n",
      "|  count|             278154|\n",
      "|   mean|               null|\n",
      "| stddev|               null|\n",
      "|    min|2018-10-01 00:01:57|\n",
      "|    max|2018-12-03 01:11:16|\n",
      "+-------+-------------------+\n",
      "\n"
     ]
    },
    {
     "data": {
      "image/png": "[encoded data removed]",
      "text/plain": [
       "<matplotlib.figure.Figure at 0x7fafd6dd01d0>"
      ]
     },
     "metadata": {
      "needs_background": "light"
     },
     "output_type": "display_data"
    }
   ],
   "source": [
    "\n",
    "pdm = user_log.select([\"userId\", 'month', \"churn\"]).toPandas()\n",
    "sns.countplot(x='month', hue=\"churn\", data=pdm);\n",
    "user_log.select('time').describe().show()"
   ]
  },
  {
   "cell_type": "markdown",
   "metadata": {},
   "source": [
    "### First interpretations see in the BLOG Report \n",
    "\n",
    "[Here](https://ubiquarum66.github.io/Udacity_Sparkify_Project_Blog/) I will try to interprete the findings."
   ]
  },
  {
   "cell_type": "markdown",
   "metadata": {},
   "source": [
    "### Putting it together\n",
    "\n",
    "+ ceate one churn feature dataframe ... later repeated in the fit script notebook"
   ]
  },
  {
   "cell_type": "code",
   "execution_count": 99,
   "metadata": {},
   "outputs": [
    {
     "data": {
      "text/plain": [
       "DataFrame[userId: string, churn: bigint]"
      ]
     },
     "execution_count": 99,
     "metadata": {},
     "output_type": "execute_result"
    }
   ],
   "source": [
    "#The main component is churn and user, and as it shows above, that some guys \n",
    "#churn return more than 3 times, we just take the max, and do ignore the on-off details in between\n",
    "\n",
    "churningusers = user_log.groupBy(\"userId\").max(\"churn\").withColumnRenamed(\"max(churn)\", \"churn\")\n",
    "churningusers.select([\"userId\", \"churn\"])"
   ]
  },
  {
   "cell_type": "markdown",
   "metadata": {},
   "source": [
    "### include further easy obtainable ones... \n",
    "\n",
    "perhaps to be used...first define them, then rename them to be more concise...\n",
    "\n",
    "Finally, join all of them together to the feature set...\n"
   ]
  },
  {
   "cell_type": "code",
   "execution_count": 100,
   "metadata": {},
   "outputs": [],
   "source": [
    "songcount = user_log.groupby(\"userId\").agg(countDistinct(\"song\"))\n",
    "artistdiversity = user_log.groupby(\"userId\").agg(countDistinct(\"artist\"))\n",
    "sumoflength=user_log.groupby(\"userId\").agg({\"length\" : \"sum\"})\n",
    "visitfrequency = user_log.groupby(\"userId\").count()\n"
   ]
  },
  {
   "cell_type": "code",
   "execution_count": 101,
   "metadata": {},
   "outputs": [],
   "source": [
    "songcount = songcount.withColumnRenamed(\"count(DISTINCT song)\", \"songcount\")\n",
    "artistdiversity = artistdiversity.withColumnRenamed(\"count(DISTINCT artist)\", \"artistdiversity\")\n",
    "sumoflength=sumoflength.withColumnRenamed(\"sum(length)\",\"sumoflength\")\n",
    "visitfrequency = visitfrequency.withColumnRenamed(\"count\", \"visitfrequency\")\n"
   ]
  },
  {
   "cell_type": "code",
   "execution_count": 102,
   "metadata": {},
   "outputs": [],
   "source": [
    "\n",
    "first_interaction =  user_log.groupBy('userId').agg(min('ts').alias('first_interaction'))\n",
    "last_interaction =  user_log.groupBy('userId').agg(max('ts').alias('last_interaction'))\n",
    "mean_interaction =  user_log.groupBy('userId').agg(mean('ts').alias('mean_interaction'))"
   ]
  },
  {
   "cell_type": "code",
   "execution_count": 103,
   "metadata": {},
   "outputs": [
    {
     "data": {
      "text/plain": [
       "Row(userId='109', churn=1, artistdiversity=580, visitfrequency=861, songcount=689, sumoflength=178960.94166000007, first_interaction=1538888285000, last_interaction=1542371584000, mean_interaction=1540568203773.519)"
      ]
     },
     "execution_count": 103,
     "metadata": {},
     "output_type": "execute_result"
    }
   ],
   "source": [
    "# again the userid with the known churning as a test\n",
    "\n",
    "churningusers  = churningusers.join(artistdiversity,[\"userId\"])\n",
    "churningusers  = churningusers.join(visitfrequency,[\"userId\"])\n",
    "churningusers  = churningusers.join(songcount,[\"userId\"])\n",
    "churningusers  = churningusers.join(sumoflength,[\"userId\"])\n",
    "churningusers  = churningusers.join(first_interaction,[\"userId\"])\n",
    "churningusers  = churningusers.join(last_interaction,[\"userId\"])\n",
    "churningusers  = churningusers.join(mean_interaction,[\"userId\"])\n",
    "\n",
    "churningusers.where(user_log.userId==109).head()"
   ]
  },
  {
   "cell_type": "code",
   "execution_count": 104,
   "metadata": {},
   "outputs": [],
   "source": [
    "churningusers = churningusers.withColumn('lastedinteraction', churningusers['last_interaction']-churningusers['first_interaction'])\n"
   ]
  },
  {
   "cell_type": "code",
   "execution_count": 105,
   "metadata": {},
   "outputs": [],
   "source": [
    "\n",
    "def doMyPlot(dfin, colname):\n",
    "    dfinpd = dfin.toPandas()\n",
    "    sns.boxplot(x=\"churn\", y=colname, data=dfinpd);\n",
    "    plt.show()"
   ]
  },
  {
   "cell_type": "code",
   "execution_count": 106,
   "metadata": {},
   "outputs": [
    {
     "data": {
      "image/png": "[encoded data removed]",
      "text/plain": [
       "<matplotlib.figure.Figure at 0x7fafec92d7f0>"
      ]
     },
     "metadata": {
      "needs_background": "light"
     },
     "output_type": "display_data"
    }
   ],
   "source": [
    "doMyPlot(churningusers,'artistdiversity')"
   ]
  },
  {
   "cell_type": "code",
   "execution_count": 107,
   "metadata": {},
   "outputs": [
    {
     "data": {
      "image/png": "[encoded data removed]",
      "text/plain": [
       "<matplotlib.figure.Figure at 0x7fafe3d8d748>"
      ]
     },
     "metadata": {
      "needs_background": "light"
     },
     "output_type": "display_data"
    }
   ],
   "source": [
    "\n",
    "doMyPlot(churningusers,'visitfrequency')"
   ]
  },
  {
   "cell_type": "code",
   "execution_count": 108,
   "metadata": {},
   "outputs": [
    {
     "data": {
      "image/png": "[encoded data removed]",
      "text/plain": [
       "<matplotlib.figure.Figure at 0x7fafded3f860>"
      ]
     },
     "metadata": {
      "needs_background": "light"
     },
     "output_type": "display_data"
    }
   ],
   "source": [
    "\n",
    "doMyPlot(churningusers,'songcount')"
   ]
  },
  {
   "cell_type": "code",
   "execution_count": 109,
   "metadata": {},
   "outputs": [
    {
     "data": {
      "image/png": "[encoded data removed]",
      "text/plain": [
       "<matplotlib.figure.Figure at 0x7fafd8e3f668>"
      ]
     },
     "metadata": {
      "needs_background": "light"
     },
     "output_type": "display_data"
    }
   ],
   "source": [
    "\n",
    "doMyPlot(churningusers,'sumoflength')"
   ]
  },
  {
   "cell_type": "code",
   "execution_count": 110,
   "metadata": {},
   "outputs": [
    {
     "data": {
      "image/png": "[encoded data removed]",
      "text/plain": [
       "<matplotlib.figure.Figure at 0x7fafdeca9f98>"
      ]
     },
     "metadata": {
      "needs_background": "light"
     },
     "output_type": "display_data"
    }
   ],
   "source": [
    "\n",
    "doMyPlot(churningusers,'first_interaction')"
   ]
  },
  {
   "cell_type": "code",
   "execution_count": 111,
   "metadata": {},
   "outputs": [
    {
     "data": {
      "image/png": "[encoded data removed]",
      "text/plain": [
       "<matplotlib.figure.Figure at 0x7fafe3cf8be0>"
      ]
     },
     "metadata": {
      "needs_background": "light"
     },
     "output_type": "display_data"
    }
   ],
   "source": [
    "\n",
    "doMyPlot(churningusers,'last_interaction')\n"
   ]
  },
  {
   "cell_type": "code",
   "execution_count": 112,
   "metadata": {},
   "outputs": [
    {
     "name": "stdout",
     "output_type": "stream",
     "text": [
      "root\n",
      " |-- userId: string (nullable = true)\n",
      " |-- churn: long (nullable = true)\n",
      " |-- artistdiversity: long (nullable = false)\n",
      " |-- visitfrequency: long (nullable = false)\n",
      " |-- songcount: long (nullable = false)\n",
      " |-- sumoflength: double (nullable = true)\n",
      " |-- first_interaction: long (nullable = true)\n",
      " |-- last_interaction: long (nullable = true)\n",
      " |-- mean_interaction: double (nullable = true)\n",
      " |-- lastedinteraction: long (nullable = true)\n",
      "\n"
     ]
    }
   ],
   "source": [
    "churningusers.printSchema()"
   ]
  },
  {
   "cell_type": "code",
   "execution_count": 113,
   "metadata": {},
   "outputs": [
    {
     "data": {
      "image/png": "[encoded data removed]",
      "text/plain": [
       "<matplotlib.figure.Figure at 0x7fafde587630>"
      ]
     },
     "metadata": {
      "needs_background": "light"
     },
     "output_type": "display_data"
    }
   ],
   "source": [
    "\n",
    "doMyPlot(churningusers,'lastedinteraction')"
   ]
  },
  {
   "cell_type": "code",
   "execution_count": null,
   "metadata": {},
   "outputs": [],
   "source": []
  },
  {
   "cell_type": "code",
   "execution_count": null,
   "metadata": {},
   "outputs": [],
   "source": []
  },
  {
   "cell_type": "code",
   "execution_count": null,
   "metadata": {},
   "outputs": [],
   "source": []
  },
  {
   "cell_type": "code",
   "execution_count": null,
   "metadata": {},
   "outputs": [],
   "source": []
  },
  {
   "cell_type": "markdown",
   "metadata": {},
   "source": [
    "# Modeling\n",
    "Split the full dataset into train, test, and validation sets. Test out several of the machine learning methods you learned. Evaluate the accuracy of the various models, tuning parameters as necessary. Determine your winning model based on test accuracy and report results on the validation set. Since the churned users are a fairly small subset, I suggest using F1 score as the metric to optimize."
   ]
  },
  {
   "cell_type": "markdown",
   "metadata": {},
   "source": [
    "### Modeling is sourced out to another script without interactive elements\n",
    "\n",
    "[Here](https://github.com/ubiquarum66/UdacityProjectSparkify) you can find both of this notebooks!"
   ]
  },
  {
   "cell_type": "code",
   "execution_count": null,
   "metadata": {},
   "outputs": [],
   "source": []
  },
  {
   "cell_type": "markdown",
   "metadata": {},
   "source": [
    "# Final Steps\n",
    "Clean up your code, adding comments and renaming variables to make the code easier to read and maintain. Refer to the Spark Project Overview page and Data Scientist Capstone Project Rubric to make sure you are including all components of the capstone project and meet all expectations. Remember, this includes thorough documentation in a README file in a Github repository, as well as a web app or blog post."
   ]
  },
  {
   "cell_type": "code",
   "execution_count": null,
   "metadata": {},
   "outputs": [],
   "source": []
  }
 ],
 "metadata": {
  "kernelspec": {
   "display_name": "Python 3",
   "language": "python",
   "name": "python3"
  },
  "language_info": {
   "codemirror_mode": {
    "name": "ipython",
    "version": 3
   },
   "file_extension": ".py",
   "mimetype": "text/x-python",
   "name": "python",
   "nbconvert_exporter": "python",
   "pygments_lexer": "ipython3",
   "version": "3.6.3"
  }
 },
 "nbformat": 4,
 "nbformat_minor": 2
}
