{
 "cells": [
  {
   "cell_type": "markdown",
   "metadata": {},
   "source": [
    "# Sparkify Project Workspace - Part II\n",
    "This workspace contains a tiny subset (128MB) of the full dataset available (12GB). Feel free to use this workspace to build your project, or to explore a smaller subset with Spark before deploying your cluster on the cloud. Instructions for setting up your Spark cluster is included in the last lesson of the Extracurricular Spark Course content.\n",
    "\n",
    "You can follow the steps below to guide your data analysis and model building portion of this project."
   ]
  },
  {
   "cell_type": "markdown",
   "metadata": {},
   "source": [
    "### Import Libraries etc..."
   ]
  },
  {
   "cell_type": "code",
   "execution_count": 5,
   "metadata": {},
   "outputs": [],
   "source": [
    "# import libraries\n",
    "from pyspark.sql import SparkSession\n",
    "#from pyspark.sql.functions import udf\n",
    "from pyspark.sql.types import StringType\n",
    "from pyspark.sql.types import IntegerType\n",
    "from pyspark.sql.types import DateType\n",
    "from pyspark.sql.functions import desc\n",
    "from pyspark.sql.functions import asc\n",
    "from pyspark.sql.functions import sum as Fsum\n",
    "from pyspark.sql.functions import avg, col, concat, desc, explode, lit, min, max, split, udf,count,when,isnan,regexp_replace,countDistinct,month,from_unixtime,to_timestamp,lead,datediff,mean\n",
    "from pyspark.ml import Pipeline\n",
    "from pyspark.ml.classification import LogisticRegression,RandomForestClassifier, GBTClassifier\n",
    "from pyspark.ml.evaluation import BinaryClassificationEvaluator, MulticlassClassificationEvaluator\n",
    "from pyspark.ml.feature import MinMaxScaler, StringIndexer, VectorAssembler\n",
    "from pyspark.ml.tuning import CrossValidator, ParamGridBuilder\n"
   ]
  },
  {
   "cell_type": "code",
   "execution_count": 6,
   "metadata": {},
   "outputs": [],
   "source": [
    "import datetime\n",
    "import pyspark.sql.functions as F\n",
    "import numpy as np\n",
    "import pandas as pd\n",
    "%matplotlib inline\n",
    "import matplotlib.pyplot as plt"
   ]
  },
  {
   "cell_type": "code",
   "execution_count": 7,
   "metadata": {},
   "outputs": [],
   "source": [
    "# create a Spark session\n",
    "spark = SparkSession \\\n",
    "    .builder \\\n",
    "    .appName(\"Wrangling Data\") \\\n",
    "    .getOrCreate()"
   ]
  },
  {
   "cell_type": "markdown",
   "metadata": {},
   "source": [
    "# Load and Clean Dataset\n",
    "In this workspace, the mini-dataset file is `mini_sparkify_event_data.json`. Load and clean the dataset, checking for invalid or missing data - for example, records without userids or sessionids. "
   ]
  },
  {
   "cell_type": "code",
   "execution_count": 8,
   "metadata": {},
   "outputs": [],
   "source": [
    " #load spark data\n",
    "user_log = spark.read.json('mini_sparkify_event_data.json')\n",
    "user_log.persist()\n",
    "user_log = user_log.filter(user_log[\"userId\"] != \"\")\n"
   ]
  },
  {
   "cell_type": "markdown",
   "metadata": {},
   "source": [
    "### Churn dataset as in 'data wrangling with DataFrame'"
   ]
  },
  {
   "cell_type": "code",
   "execution_count": 9,
   "metadata": {},
   "outputs": [],
   "source": [
    "flag_downgrade_event = udf(lambda x: 1 if x == \"Submit Downgrade\" else 0, IntegerType())\n",
    "user_log = user_log.withColumn(\"downgraded\", flag_downgrade_event(\"page\"))\n",
    "# now we have for each timestamp sorted user a delta peak where the downgrade took place\n",
    "from pyspark.sql import Window\n",
    "windowval = Window.partitionBy(\"userId\").orderBy(desc(\"ts\")).rangeBetween(Window.unboundedPreceding, 0)\n",
    "user_log = user_log.withColumn(\"churn\", Fsum(\"downgraded\").over(windowval))"
   ]
  },
  {
   "cell_type": "markdown",
   "metadata": {},
   "source": [
    "### Here date and time is derived ... this bears problems on the AWS side!"
   ]
  },
  {
   "cell_type": "code",
   "execution_count": 10,
   "metadata": {},
   "outputs": [
    {
     "data": {
      "text/plain": [
       "Row(artist=None, auth='Logged In', firstName='Darianna', gender='F', itemInSession=34, lastName='Carpenter', length=None, level='free', location='Bridgeport-Stamford-Norwalk, CT', method='PUT', page='Logout', registration=1538016340000, sessionId=187, song=None, status=307, ts=1542823952000, userAgent='\"Mozilla/5.0 (iPhone; CPU iPhone OS 7_1_2 like Mac OS X) AppleWebKit/537.51.2 (KHTML, like Gecko) Version/7.0 Mobile/11D257 Safari/9537.53\"', userId='100010', downgraded=0, churn=0, time='2018-11-21 18:12:32', registration_time='2018-09-27 02:45:40', date=datetime.date(2018, 11, 21), month=11)"
      ]
     },
     "execution_count": 10,
     "metadata": {},
     "output_type": "execute_result"
    }
   ],
   "source": [
    "# ### As time plays a crucial role in this interaction, some derivations\n",
    "\n",
    "# In[47]:\n",
    "get_time = udf(lambda x: pd.Timestamp(x / 1000.0,unit='s').strftime(\"%Y-%m-%d %H:%M:%S\"))\n",
    "user_log = user_log.withColumn(\"time\", get_time(user_log.ts)).withColumn('registration_time',get_time(user_log.registration))\n",
    "user_log = user_log.withColumn('date', from_unixtime(col('ts')/1000).cast(DateType()))\n",
    "user_log = user_log.withColumn('month', month(\"time\").alias('month'))\n",
    "user_log.head()\n"
   ]
  },
  {
   "cell_type": "code",
   "execution_count": 51,
   "metadata": {},
   "outputs": [
    {
     "data": {
      "text/plain": [
       "DataFrame[userId: string, churn: bigint]"
      ]
     },
     "execution_count": 51,
     "metadata": {},
     "output_type": "execute_result"
    }
   ],
   "source": [
    "#The main component is churn and user, and as it shows above, that some guys \n",
    "#churn return more than 3 times, we just take the max, and do ignore the on-off details in between\n",
    "\n",
    "churningusers = user_log.groupBy(\"userId\").max(\"churn\").withColumnRenamed(\"max(churn)\", \"churn\")\n",
    "churningusers.select([\"userId\", \"churn\"])"
   ]
  },
  {
   "cell_type": "markdown",
   "metadata": {},
   "source": [
    "### Build up the features dataframe\n",
    "...by joining all the infos (time, gender etc... ) via UserID. "
   ]
  },
  {
   "cell_type": "code",
   "execution_count": 52,
   "metadata": {},
   "outputs": [
    {
     "name": "stdout",
     "output_type": "stream",
     "text": [
      "root\n",
      " |-- userId: string (nullable = true)\n",
      " |-- churn: long (nullable = true)\n",
      "\n",
      "root\n",
      " |-- userId: string (nullable = true)\n",
      " |-- churn: long (nullable = true)\n",
      " |-- gender: integer (nullable = true)\n",
      " |-- level: integer (nullable = true)\n",
      " |-- churngbt: integer (nullable = true)\n",
      "\n"
     ]
    }
   ],
   "source": [
    "#Recoding of the categorical variables....\n",
    "transformchurn  = udf(lambda x: 1 if x > 0  else 0, IntegerType())\n",
    "transformgender = udf(lambda x: 1 if x == \"F\" else 0, IntegerType())\n",
    "transformlevel =  udf(lambda x: 1 if x == \"paid\" else 0, IntegerType())\n",
    "churningusers.printSchema()\n",
    "user_temp1 = user_log.withColumn(\"gender\", transformgender(\"gender\"))\n",
    "user_temp2 = user_log.withColumn(\"level\",  transformlevel (\"level\"))\n",
    "user_temp3 = user_log.withColumn(\"churngbt\",  transformlevel (\"churn\"))\n",
    "user_temp1 = user_temp1.groupby('userId').agg({\"gender\": \"max\"}).withColumnRenamed(\"max(gender)\", \"gender\")\n",
    "user_temp2 = user_temp2.groupby('userId').agg({\"level\": \"max\"}).withColumnRenamed(\"max(level)\", \"level\")\n",
    "user_temp3 = user_temp3.groupby('userId').agg({\"churngbt\": \"max\"}).withColumnRenamed(\"max(churngbt)\", \"churngbt\")\n",
    "churningusers=churningusers.join(user_temp1, ['userId'])\n",
    "churningusers=churningusers.join(user_temp2, ['userId'])\n",
    "churningusers=churningusers.join(user_temp3, ['userId'])\n",
    "churningusers.printSchema()"
   ]
  },
  {
   "cell_type": "code",
   "execution_count": 53,
   "metadata": {},
   "outputs": [],
   "source": [
    "# Finally, join all of them together to the feature set...\n",
    "# \n",
    "# In[100]:\n",
    "### Building them \n",
    "songcount = user_log.groupby(\"userId\").agg(countDistinct(\"song\"))\n",
    "artistdiversity = user_log.groupby(\"userId\").agg(countDistinct(\"artist\"))\n",
    "sumoflength=user_log.groupby(\"userId\").agg({\"length\" : \"sum\"})\n",
    "visitfrequency = user_log.groupby(\"userId\").count()\n",
    "\n",
    "### Rename them to be nicer\n",
    "songcount = songcount.withColumnRenamed(\"count(DISTINCT song)\", \"songcount\")\n",
    "artistdiversity = artistdiversity.withColumnRenamed(\"count(DISTINCT artist)\", \"artistdiversity\")\n",
    "sumoflength=sumoflength.withColumnRenamed(\"sum(length)\",\"sumoflength\")\n",
    "visitfrequency = visitfrequency.withColumnRenamed(\"count\", \"visitfrequency\")\n",
    "### get some time based features...\n",
    "first_interaction =  user_log.groupBy('userId').agg(min('ts').alias('first_interaction'))\n",
    "last_interaction =  user_log.groupBy('userId').agg(max('ts').alias('last_interaction'))\n",
    "mean_interaction =  user_log.groupBy('userId').agg(mean('ts').alias('mean_interaction'))\n",
    "# again the userid with the known churning as a test\n",
    "churningusers  = churningusers.join(artistdiversity,[\"userId\"])\n",
    "churningusers  = churningusers.join(visitfrequency,[\"userId\"])\n",
    "churningusers  = churningusers.join(songcount,[\"userId\"])\n",
    "churningusers  = churningusers.join(sumoflength,[\"userId\"])\n",
    "churningusers  = churningusers.join(first_interaction,[\"userId\"])\n",
    "churningusers  = churningusers.join(last_interaction,[\"userId\"])\n",
    "churningusers  = churningusers.join(mean_interaction,[\"userId\"])\n",
    "churningusers = churningusers.withColumn('lastedinteraction', churningusers['last_interaction']-churningusers['first_interaction'])\n",
    "churningusers = churningusers.withColumn('lastedinteraction', churningusers['lastedinteraction']/1e9)"
   ]
  },
  {
   "cell_type": "code",
   "execution_count": 54,
   "metadata": {},
   "outputs": [
    {
     "name": "stdout",
     "output_type": "stream",
     "text": [
      "root\n",
      " |-- userId: string (nullable = true)\n",
      " |-- churn: long (nullable = true)\n",
      " |-- gender: integer (nullable = true)\n",
      " |-- level: integer (nullable = true)\n",
      " |-- churngbt: integer (nullable = true)\n",
      " |-- artistdiversity: long (nullable = false)\n",
      " |-- visitfrequency: long (nullable = false)\n",
      " |-- songcount: long (nullable = false)\n",
      " |-- sumoflength: double (nullable = true)\n",
      " |-- first_interaction: long (nullable = true)\n",
      " |-- last_interaction: long (nullable = true)\n",
      " |-- mean_interaction: double (nullable = true)\n",
      " |-- lastedinteraction: double (nullable = true)\n",
      "\n"
     ]
    },
    {
     "data": {
      "text/plain": [
       "[Row(userId=0, churn=0, gender=0, level=0, churngbt=0, artistdiversity=0, visitfrequency=0, songcount=0, sumoflength=0, first_interaction=0, last_interaction=0, mean_interaction=0, lastedinteraction=0)]"
      ]
     },
     "execution_count": 54,
     "metadata": {},
     "output_type": "execute_result"
    }
   ],
   "source": [
    "churningusers.printSchema()\n",
    "churningusers.select([count(when(isnan(c) | col(c).isNull(), c)).alias(c) for c in churningusers.columns]).collect()"
   ]
  },
  {
   "cell_type": "code",
   "execution_count": 55,
   "metadata": {},
   "outputs": [
    {
     "name": "stdout",
     "output_type": "stream",
     "text": [
      "['gender', 'level', 'artistdiversity', 'visitfrequency', 'songcount', 'sumoflength', 'first_interaction', 'last_interaction', 'mean_interaction', 'lastedinteraction']\n",
      "root\n",
      " |-- churn: long (nullable = true)\n",
      " |-- gender: integer (nullable = true)\n",
      " |-- level: integer (nullable = true)\n",
      " |-- churngbt: integer (nullable = true)\n",
      " |-- artistdiversity: long (nullable = false)\n",
      " |-- visitfrequency: long (nullable = false)\n",
      " |-- songcount: long (nullable = false)\n",
      " |-- sumoflength: double (nullable = true)\n",
      " |-- first_interaction: long (nullable = true)\n",
      " |-- last_interaction: long (nullable = true)\n",
      " |-- mean_interaction: double (nullable = true)\n",
      " |-- lastedinteraction: double (nullable = true)\n",
      "\n"
     ]
    }
   ],
   "source": [
    "churningusers= churningusers.drop(\"userId\")\n",
    "getallfeatures = [mycol for mycol in churningusers.columns if  mycol not in ['churn','churngbt']] \n",
    "#here, userid is no longer needed, as the model is lter on served by user data, without knowlegde of origin\n",
    "print(getallfeatures)\n",
    "churningusers.printSchema()\n"
   ]
  },
  {
   "cell_type": "code",
   "execution_count": null,
   "metadata": {},
   "outputs": [],
   "source": []
  },
  {
   "cell_type": "code",
   "execution_count": 56,
   "metadata": {},
   "outputs": [
    {
     "name": "stderr",
     "output_type": "stream",
     "text": [
      "/opt/conda/lib/python3.6/site-packages/IPython/core/interactiveshell.py:2961: UserWarning: To output multiple subplots, the figure containing the passed axes is being cleared\n",
      "  exec(code_obj, self.user_global_ns, self.user_ns)\n"
     ]
    },
    {
     "data": {
      "image/png": "[encoded data removed]",
      "text/plain": [
       "<matplotlib.figure.Figure at 0x7fefc4384400>"
      ]
     },
     "metadata": {
      "needs_background": "light"
     },
     "output_type": "display_data"
    }
   ],
   "source": [
    "\n",
    "pandasplotfeatures = churningusers.drop(\"churn\").toPandas()\n",
    "\n",
    "fig = plt.figure(figsize=(30,25))\n",
    "ax = fig.gca()\n",
    "h = pandasplotfeatures.hist(ax=ax)"
   ]
  },
  {
   "cell_type": "markdown",
   "metadata": {},
   "source": [
    "# Modeling\n",
    "Split the full dataset into train, test, and validation sets. Test out several of the machine learning methods you learned. Evaluate the accuracy of the various models, tuning parameters as necessary. Determine your winning model based on test accuracy and report results on the validation set. Since the churned users are a fairly small subset, I suggest using F1 score as the metric to optimize."
   ]
  },
  {
   "cell_type": "code",
   "execution_count": 57,
   "metadata": {},
   "outputs": [],
   "source": [
    "train, test = churningusers.randomSplit([0.7, 0.3], seed=42)\n",
    "train = train.cache()\n",
    "\n",
    "def modelbuilder(myclassifier, myparam, mynumfold,labelcolin):\n",
    "    \"\"\"\n",
    "    Try to setup a pipeline with given Clasifier\n",
    "    Input:\n",
    "    myclassifier - one type of vailable classifier classes\n",
    "    param - built param grid for  model opt search\n",
    "    Output :\n",
    "    mymodel - ML pipeline model as transformer...\n",
    "    \"\"\"\n",
    "    assembler = VectorAssembler(inputCols=getallfeatures, outputCol=\"features\")\n",
    "    scaler = MinMaxScaler(inputCol=\"features\", outputCol=\"scfeatures\")\n",
    "    pipeline = Pipeline(stages=[assembler, scaler, myclassifier])\n",
    "    mymodel = CrossValidator(\n",
    "        estimator=pipeline,\n",
    "        estimatorParamMaps=myparam,\n",
    "        evaluator = \\\n",
    "          MulticlassClassificationEvaluator( \\\n",
    "          labelCol=labelcolin, metricName='f1'),\n",
    "        numFolds=mynumfold,\n",
    "    )\n",
    "    return mymodel\n"
   ]
  },
  {
   "cell_type": "code",
   "execution_count": 58,
   "metadata": {},
   "outputs": [],
   "source": [
    "evaluator = MulticlassClassificationEvaluator(predictionCol=\"prediction\", labelCol=\"churngbt\")"
   ]
  },
  {
   "cell_type": "code",
   "execution_count": 59,
   "metadata": {},
   "outputs": [],
   "source": [
    "gaussboost =GBTClassifier(featuresCol=\"scfeatures\", labelCol=\"churngbt\")\n",
    "gaussboost_param = ParamGridBuilder().build()\n",
    "gaussboost_model = modelbuilder(gaussboost, gaussboost_param,2,'churngbt')\n"
   ]
  },
  {
   "cell_type": "code",
   "execution_count": 60,
   "metadata": {},
   "outputs": [
    {
     "data": {
      "text/plain": [
       "[Row(prediction=0.0)]"
      ]
     },
     "execution_count": 60,
     "metadata": {},
     "output_type": "execute_result"
    }
   ],
   "source": [
    "gaussboost_fitted_model = gaussboost_model.fit(train)\n",
    "gaussboost_pred = gaussboost_fitted_model.transform(test)\n",
    "gaussboost_pred.select(\"prediction\").dropDuplicates().collect()"
   ]
  },
  {
   "cell_type": "code",
   "execution_count": 62,
   "metadata": {},
   "outputs": [
    {
     "name": "stdout",
     "output_type": "stream",
     "text": [
      "f1 using Gradient Boosting: 1.0\n"
     ]
    }
   ],
   "source": [
    "gaussboost_f1score = evaluator.evaluate(gaussboost_pred, {evaluator.metricName: \"f1\"})\n",
    "print(\"f1 using Gradient Boosting: {}\".format(gaussboost_f1score))"
   ]
  },
  {
   "cell_type": "code",
   "execution_count": 63,
   "metadata": {},
   "outputs": [],
   "source": [
    "evaluator = MulticlassClassificationEvaluator(predictionCol=\"prediction\", labelCol=\"churn\")"
   ]
  },
  {
   "cell_type": "code",
   "execution_count": 64,
   "metadata": {},
   "outputs": [],
   "source": [
    "\n",
    "rndf = RandomForestClassifier(featuresCol=\"scfeatures\", labelCol=\"churn\")\n",
    "rndf_param = ParamGridBuilder().build()\n",
    "rndf_model = modelbuilder(rndf, rndf_param,2,'churn')\n",
    "\n"
   ]
  },
  {
   "cell_type": "code",
   "execution_count": 65,
   "metadata": {},
   "outputs": [
    {
     "name": "stdout",
     "output_type": "stream",
     "text": [
      "f1 using Random Forest: 0.7263903079842359\n"
     ]
    }
   ],
   "source": [
    "\n",
    "\n",
    "rndf_fitted_model = rndf_model.fit(train)\n",
    "rndf_pred = rndf_fitted_model.transform(test)\n",
    "\n",
    "rndfscore = evaluator.evaluate(rndf_pred, {evaluator.metricName: \"f1\"})\n",
    "print(\"f1 using Random Forest: {}\".format(rndfscore))\n",
    "\n"
   ]
  },
  {
   "cell_type": "code",
   "execution_count": 66,
   "metadata": {},
   "outputs": [],
   "source": [
    "##here other classifier types to come"
   ]
  },
  {
   "cell_type": "markdown",
   "metadata": {},
   "source": [
    "# Final Steps\n",
    "Clean up your code, adding comments and renaming variables to make the code easier to read and maintain. Refer to the Spark Project Overview page and Data Scientist Capstone Project Rubric to make sure you are including all components of the capstone project and meet all expectations. Remember, this includes thorough documentation in a README file in a Github repository, as well as a web app or blog post."
   ]
  },
  {
   "cell_type": "code",
   "execution_count": null,
   "metadata": {},
   "outputs": [],
   "source": []
  }
 ],
 "metadata": {
  "kernelspec": {
   "display_name": "Python 3",
   "language": "python",
   "name": "python3"
  },
  "language_info": {
   "codemirror_mode": {
    "name": "ipython",
    "version": 3
   },
   "file_extension": ".py",
   "mimetype": "text/x-python",
   "name": "python",
   "nbconvert_exporter": "python",
   "pygments_lexer": "ipython3",
   "version": "3.6.3"
  }
 },
 "nbformat": 4,
 "nbformat_minor": 2
}
